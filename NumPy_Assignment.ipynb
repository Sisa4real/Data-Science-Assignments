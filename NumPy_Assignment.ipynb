{
 "cells": [
  {
   "cell_type": "markdown",
   "metadata": {},
   "source": [
    "# Assignment: 100 numpy exercises"
   ]
  },
  {
   "cell_type": "markdown",
   "metadata": {},
   "source": [
    "### 1. Import the numpy package under the name np"
   ]
  },
  {
   "cell_type": "code",
   "execution_count": 1,
   "metadata": {},
   "outputs": [],
   "source": [
    "import numpy as np"
   ]
  },
  {
   "cell_type": "markdown",
   "metadata": {},
   "source": [
    "### 2. Print the numpy version and the configuration."
   ]
  },
  {
   "cell_type": "code",
   "execution_count": 2,
   "metadata": {},
   "outputs": [
    {
     "name": "stdout",
     "output_type": "stream",
     "text": [
      "NumPy v1.26.0\n",
      "{\n",
      "  \"Compilers\": {\n",
      "    \"c\": {\n",
      "      \"name\": \"gcc\",\n",
      "      \"linker\": \"ld.bfd\",\n",
      "      \"version\": \"11.2.0\",\n",
      "      \"commands\": \"/croot/numpy_and_numpy_base_1695830428084/_build_env/bin/x86_64-conda-linux-gnu-cc\"\n",
      "    },\n",
      "    \"cython\": {\n",
      "      \"name\": \"cython\",\n",
      "      \"linker\": \"cython\",\n",
      "      \"version\": \"3.0.0\",\n",
      "      \"commands\": \"cython\"\n",
      "    },\n",
      "    \"c++\": {\n",
      "      \"name\": \"gcc\",\n",
      "      \"linker\": \"ld.bfd\",\n",
      "      \"version\": \"11.2.0\",\n",
      "      \"commands\": \"/croot/numpy_and_numpy_base_1695830428084/_build_env/bin/x86_64-conda-linux-gnu-c++\"\n",
      "    }\n",
      "  },\n",
      "  \"Machine Information\": {\n",
      "    \"host\": {\n",
      "      \"cpu\": \"x86_64\",\n",
      "      \"family\": \"x86_64\",\n",
      "      \"endian\": \"little\",\n",
      "      \"system\": \"linux\"\n",
      "    },\n",
      "    \"build\": {\n",
      "      \"cpu\": \"x86_64\",\n",
      "      \"family\": \"x86_64\",\n",
      "      \"endian\": \"little\",\n",
      "      \"system\": \"linux\"\n",
      "    }\n",
      "  },\n",
      "  \"Build Dependencies\": {\n",
      "    \"blas\": {\n",
      "      \"name\": \"mkl-sdl\",\n",
      "      \"found\": true,\n",
      "      \"version\": \"2023.1\",\n",
      "      \"detection method\": \"pkgconfig\",\n",
      "      \"include directory\": \"/home/ultimate/miniconda3/envs/datascience/include\",\n",
      "      \"lib directory\": \"/home/ultimate/miniconda3/envs/datascience/lib\",\n",
      "      \"pc file directory\": \"/home/ultimate/miniconda3/envs/datascience/lib/pkgconfig\"\n",
      "    },\n",
      "    \"lapack\": {\n",
      "      \"name\": \"mkl-sdl\",\n",
      "      \"found\": true,\n",
      "      \"version\": \"2023.1\",\n",
      "      \"detection method\": \"pkgconfig\",\n",
      "      \"include directory\": \"/home/ultimate/miniconda3/envs/datascience/include\",\n",
      "      \"lib directory\": \"/home/ultimate/miniconda3/envs/datascience/lib\",\n",
      "      \"pc file directory\": \"/home/ultimate/miniconda3/envs/datascience/lib/pkgconfig\"\n",
      "    }\n",
      "  },\n",
      "  \"Python Information\": {\n",
      "    \"path\": \"/home/ultimate/miniconda3/envs/datascience/bin/python\",\n",
      "    \"version\": \"3.9\"\n",
      "  },\n",
      "  \"SIMD Extensions\": {\n",
      "    \"baseline\": [\n",
      "      \"SSE\",\n",
      "      \"SSE2\",\n",
      "      \"SSE3\"\n",
      "    ],\n",
      "    \"found\": [\n",
      "      \"SSSE3\",\n",
      "      \"SSE41\",\n",
      "      \"POPCNT\",\n",
      "      \"SSE42\",\n",
      "      \"AVX\",\n",
      "      \"F16C\",\n",
      "      \"FMA3\",\n",
      "      \"AVX2\"\n",
      "    ],\n",
      "    \"not found\": [\n",
      "      \"AVX512F\",\n",
      "      \"AVX512CD\",\n",
      "      \"AVX512_KNL\",\n",
      "      \"AVX512_KNM\",\n",
      "      \"AVX512_SKX\",\n",
      "      \"AVX512_CLX\",\n",
      "      \"AVX512_CNL\",\n",
      "      \"AVX512_ICL\"\n",
      "    ]\n",
      "  }\n",
      "}\n"
     ]
    },
    {
     "name": "stderr",
     "output_type": "stream",
     "text": [
      "/home/ultimate/miniconda3/envs/datascience/lib/python3.9/site-packages/numpy/__config__.py:149: UserWarning: Install `pyyaml` for better output\n",
      "  warnings.warn(\"Install `pyyaml` for better output\", stacklevel=1)\n"
     ]
    }
   ],
   "source": [
    "print(\"NumPy v\"+ np.__version__)\n",
    "np.show_config()"
   ]
  },
  {
   "cell_type": "markdown",
   "metadata": {},
   "source": [
    "### 3. Create a null vector of size 10"
   ]
  },
  {
   "cell_type": "code",
   "execution_count": 3,
   "metadata": {},
   "outputs": [
    {
     "name": "stdout",
     "output_type": "stream",
     "text": [
      "[0. 0. 0. 0. 0. 0. 0. 0. 0. 0.]\n"
     ]
    }
   ],
   "source": [
    "null_vector = np.zeros(10)\n",
    "print(null_vector)"
   ]
  },
  {
   "cell_type": "markdown",
   "metadata": {},
   "source": [
    "### 4. How to find the memory size of any array"
   ]
  },
  {
   "cell_type": "code",
   "execution_count": 4,
   "metadata": {},
   "outputs": [
    {
     "name": "stdout",
     "output_type": "stream",
     "text": [
      "120 bytes\n"
     ]
    }
   ],
   "source": [
    "array = np.zeros((3, 5))\n",
    "print(array.size * array.itemsize, 'bytes')"
   ]
  },
  {
   "cell_type": "markdown",
   "metadata": {},
   "source": [
    "### 5. How to get the documentation of the numpy add function from the command line?\n"
   ]
  },
  {
   "cell_type": "markdown",
   "metadata": {},
   "source": [
    "> python -c \"import numpy; numpy.info(numpy.add)\""
   ]
  },
  {
   "cell_type": "code",
   "execution_count": 5,
   "metadata": {},
   "outputs": [
    {
     "name": "stdout",
     "output_type": "stream",
     "text": [
      "add(x1, x2, /, out=None, *, where=True, casting='same_kind', order='K', dtype=None, subok=True[, signature, extobj])\n",
      "\n",
      "Add arguments element-wise.\n",
      "\n",
      "Parameters\n",
      "----------\n",
      "x1, x2 : array_like\n",
      "    The arrays to be added.\n",
      "    If ``x1.shape != x2.shape``, they must be broadcastable to a common\n",
      "    shape (which becomes the shape of the output).\n",
      "out : ndarray, None, or tuple of ndarray and None, optional\n",
      "    A location into which the result is stored. If provided, it must have\n",
      "    a shape that the inputs broadcast to. If not provided or None,\n",
      "    a freshly-allocated array is returned. A tuple (possible only as a\n",
      "    keyword argument) must have length equal to the number of outputs.\n",
      "where : array_like, optional\n",
      "    This condition is broadcast over the input. At locations where the\n",
      "    condition is True, the `out` array will be set to the ufunc result.\n",
      "    Elsewhere, the `out` array will retain its original value.\n",
      "    Note that if an uninitialized `out` array is created via the default\n",
      "    ``out=None``, locations within it where the condition is False will\n",
      "    remain uninitialized.\n",
      "**kwargs\n",
      "    For other keyword-only arguments, see the\n",
      "    :ref:`ufunc docs <ufuncs.kwargs>`.\n",
      "\n",
      "Returns\n",
      "-------\n",
      "add : ndarray or scalar\n",
      "    The sum of `x1` and `x2`, element-wise.\n",
      "    This is a scalar if both `x1` and `x2` are scalars.\n",
      "\n",
      "Notes\n",
      "-----\n",
      "Equivalent to `x1` + `x2` in terms of array broadcasting.\n",
      "\n",
      "Examples\n",
      "--------\n",
      ">>> np.add(1.0, 4.0)\n",
      "5.0\n",
      ">>> x1 = np.arange(9.0).reshape((3, 3))\n",
      ">>> x2 = np.arange(3.0)\n",
      ">>> np.add(x1, x2)\n",
      "array([[  0.,   2.,   4.],\n",
      "       [  3.,   5.,   7.],\n",
      "       [  6.,   8.,  10.]])\n",
      "\n",
      "The ``+`` operator can be used as a shorthand for ``np.add`` on ndarrays.\n",
      "\n",
      ">>> x1 = np.arange(9.0).reshape((3, 3))\n",
      ">>> x2 = np.arange(3.0)\n",
      ">>> x1 + x2\n",
      "array([[ 0.,  2.,  4.],\n",
      "       [ 3.,  5.,  7.],\n",
      "       [ 6.,  8., 10.]])\n"
     ]
    }
   ],
   "source": [
    "!python -c \"import numpy; numpy.info(numpy.add)\""
   ]
  },
  {
   "cell_type": "markdown",
   "metadata": {},
   "source": [
    "### 6. Create a null vector of size 10 but the fifth value which is 1"
   ]
  },
  {
   "cell_type": "code",
   "execution_count": 6,
   "metadata": {},
   "outputs": [
    {
     "name": "stdout",
     "output_type": "stream",
     "text": [
      "[0. 0. 0. 0. 1. 0. 0. 0. 0. 0.]\n"
     ]
    }
   ],
   "source": [
    "null_vector = np.zeros(10)\n",
    "null_vector[4] = 1\n",
    "print(null_vector)"
   ]
  },
  {
   "cell_type": "markdown",
   "metadata": {},
   "source": [
    "### 7. Create a vector with values ranging from 10 to 49"
   ]
  },
  {
   "cell_type": "code",
   "execution_count": 7,
   "metadata": {},
   "outputs": [
    {
     "name": "stdout",
     "output_type": "stream",
     "text": [
      "[10 11 12 13 14 15 16 17 18 19 20 21 22 23 24 25 26 27 28 29 30 31 32 33\n",
      " 34 35 36 37 38 39 40 41 42 43 44 45 46 47 48 49]\n"
     ]
    }
   ],
   "source": [
    "vector = np.arange(10, 50)\n",
    "print(vector)"
   ]
  },
  {
   "cell_type": "markdown",
   "metadata": {},
   "source": [
    "### 8. Reverse a vector (first element becomes last)"
   ]
  },
  {
   "cell_type": "code",
   "execution_count": 8,
   "metadata": {},
   "outputs": [
    {
     "name": "stdout",
     "output_type": "stream",
     "text": [
      "[49 48 47 46 45 44 43 42 41 40 39 38 37 36 35 34 33 32 31 30 29 28 27 26\n",
      " 25 24 23 22 21 20 19 18 17 16 15 14 13 12 11 10]\n"
     ]
    }
   ],
   "source": [
    "reversed_vector = np.flip(vector)\n",
    "print(reversed_vector)"
   ]
  },
  {
   "cell_type": "markdown",
   "metadata": {},
   "source": [
    "### 9. Create a 3x3 matrix with values ranging from 0 to 8"
   ]
  },
  {
   "cell_type": "code",
   "execution_count": 9,
   "metadata": {},
   "outputs": [
    {
     "name": "stdout",
     "output_type": "stream",
     "text": [
      "[[0 1 2]\n",
      " [3 4 5]\n",
      " [6 7 8]]\n"
     ]
    }
   ],
   "source": [
    "matrix = np.arange(9).reshape(3, 3)\n",
    "print(matrix)"
   ]
  },
  {
   "cell_type": "markdown",
   "metadata": {},
   "source": [
    "### 10. Find indices of non-zero elements from [4, 5, 0, 7, 0, 0]"
   ]
  },
  {
   "cell_type": "code",
   "execution_count": 10,
   "metadata": {},
   "outputs": [
    {
     "name": "stdout",
     "output_type": "stream",
     "text": [
      "(array([0, 1, 3]),)\n"
     ]
    }
   ],
   "source": [
    "non_zero_indices = np.nonzero([4, 5, 0, 7, 0, 0])\n",
    "print(non_zero_indices)"
   ]
  },
  {
   "cell_type": "markdown",
   "metadata": {},
   "source": [
    "### 11. Create a 3x3 identity matrix"
   ]
  },
  {
   "cell_type": "code",
   "execution_count": 11,
   "metadata": {},
   "outputs": [
    {
     "name": "stdout",
     "output_type": "stream",
     "text": [
      "[[1. 0. 0.]\n",
      " [0. 1. 0.]\n",
      " [0. 0. 1.]]\n"
     ]
    }
   ],
   "source": [
    "identity_matrix = np.eye(3)\n",
    "print(identity_matrix)"
   ]
  },
  {
   "cell_type": "markdown",
   "metadata": {},
   "source": [
    "### 12. Create a 3x3x3 array with random values"
   ]
  },
  {
   "cell_type": "code",
   "execution_count": 12,
   "metadata": {},
   "outputs": [
    {
     "name": "stdout",
     "output_type": "stream",
     "text": [
      "[[[0.40865809 0.97437666 0.67940236]\n",
      "  [0.41639079 0.89446416 0.5588869 ]\n",
      "  [0.34515895 0.42747252 0.00887291]]\n",
      "\n",
      " [[0.10666526 0.81319898 0.2725481 ]\n",
      "  [0.48325464 0.32409574 0.46293262]\n",
      "  [0.57252316 0.45111363 0.45731836]]\n",
      "\n",
      " [[0.27747215 0.12403662 0.32948175]\n",
      "  [0.95677145 0.17321825 0.90760416]\n",
      "  [0.1754871  0.67574461 0.80153406]]]\n"
     ]
    }
   ],
   "source": [
    "random_array = np.random.random((3, 3, 3))\n",
    "print(random_array)"
   ]
  },
  {
   "cell_type": "markdown",
   "metadata": {},
   "source": [
    "### 13. Create a 10x10 array with random values and find the minimum and maximum values"
   ]
  },
  {
   "cell_type": "code",
   "execution_count": 13,
   "metadata": {},
   "outputs": [
    {
     "name": "stdout",
     "output_type": "stream",
     "text": [
      "10x10 array random values: \n",
      "[[0.6185819  0.76453061 0.92304173 0.14363526 0.63493004 0.56243838\n",
      "  0.87855146 0.68394714 0.63710917 0.24067653]\n",
      " [0.77781081 0.79373463 0.11265685 0.60432275 0.96277625 0.3096046\n",
      "  0.22588883 0.21775812 0.41034704 0.76889928]\n",
      " [0.22369463 0.62335342 0.35074851 0.48931343 0.02402248 0.69002556\n",
      "  0.56798354 0.32335224 0.48857085 0.29093642]\n",
      " [0.48006641 0.60815375 0.73081132 0.30936564 0.22644182 0.17416191\n",
      "  0.01616886 0.21693851 0.55259897 0.1015382 ]\n",
      " [0.49530128 0.82001343 0.79189832 0.59843081 0.79976825 0.66820894\n",
      "  0.87066167 0.89822591 0.35835171 0.80656018]\n",
      " [0.09580563 0.29442338 0.2847832  0.8864968  0.36917704 0.06891439\n",
      "  0.52353052 0.2323345  0.36357278 0.70091446]\n",
      " [0.56043262 0.07024777 0.06137472 0.3370594  0.80694458 0.60000881\n",
      "  0.24130429 0.78236761 0.14958789 0.96039834]\n",
      " [0.71309497 0.3844878  0.95990533 0.03251401 0.82378962 0.87524333\n",
      "  0.616478   0.11458289 0.26291806 0.57273503]\n",
      " [0.27539788 0.01819406 0.53041309 0.07945573 0.41383265 0.67148816\n",
      "  0.15427146 0.63213029 0.64423778 0.64355035]\n",
      " [0.76189782 0.75275455 0.29808035 0.65244506 0.08723624 0.08770261\n",
      "  0.09555413 0.87011486 0.08636714 0.08822242]]\n",
      "\n",
      "min: 0.016168861368208387\n",
      "max: 0.9627762482278605\n"
     ]
    }
   ],
   "source": [
    "random_v = np.random.random((10, 10))\n",
    "min_value = random_v.min()\n",
    "max_value = random_v.max()\n",
    "print(f\"10x10 array random values: \\n{random_v}\")\n",
    "print(f\"\\nmin: {min_value}\\nmax: {max_value}\")"
   ]
  },
  {
   "cell_type": "markdown",
   "metadata": {},
   "source": [
    "### 14. Create a random vector of size 30 and find the mean value"
   ]
  },
  {
   "cell_type": "code",
   "execution_count": 14,
   "metadata": {},
   "outputs": [
    {
     "name": "stdout",
     "output_type": "stream",
     "text": [
      "0.47947918400667355\n"
     ]
    }
   ],
   "source": [
    "random_vector = np.random.random(30)\n",
    "mean_value = random_vector.mean()\n",
    "print(mean_value)"
   ]
  },
  {
   "cell_type": "markdown",
   "metadata": {},
   "source": [
    "### 15. Create a 2d array with 1 on the border and 0 inside"
   ]
  },
  {
   "cell_type": "code",
   "execution_count": 15,
   "metadata": {},
   "outputs": [
    {
     "name": "stdout",
     "output_type": "stream",
     "text": [
      "[[1. 1. 1. 1.]\n",
      " [1. 0. 0. 1.]\n",
      " [1. 0. 0. 1.]\n",
      " [1. 1. 1. 1.]]\n"
     ]
    }
   ],
   "source": [
    "border_array = np.ones((4, 4))\n",
    "border_array[1:-1, 1:-1] = 0\n",
    "print(border_array)"
   ]
  },
  {
   "cell_type": "markdown",
   "metadata": {},
   "source": [
    "### 16. How to add a border (filled with 0's) around an existing array?"
   ]
  },
  {
   "cell_type": "code",
   "execution_count": 16,
   "metadata": {},
   "outputs": [
    {
     "name": "stdout",
     "output_type": "stream",
     "text": [
      "[[0. 0. 0. 0. 0.]\n",
      " [0. 1. 1. 1. 0.]\n",
      " [0. 1. 1. 1. 0.]\n",
      " [0. 1. 1. 1. 0.]\n",
      " [0. 0. 0. 0. 0.]]\n"
     ]
    }
   ],
   "source": [
    "existing_array = np.ones((3, 3))\n",
    "new_array = np.pad(existing_array, pad_width=1, mode='constant', constant_values=0)\n",
    "print(new_array)"
   ]
  },
  {
   "cell_type": "markdown",
   "metadata": {},
   "source": [
    "### 17. What is the result of the following expression?"
   ]
  },
  {
   "cell_type": "code",
   "execution_count": 17,
   "metadata": {},
   "outputs": [
    {
     "name": "stdout",
     "output_type": "stream",
     "text": [
      "nan\n",
      "False\n",
      "False\n",
      "nan\n",
      "True\n",
      "False\n"
     ]
    }
   ],
   "source": [
    "print(0 * np.nan)  \n",
    "print(np.nan == np.nan)\n",
    "print(np.inf > np.nan)\n",
    "print(np.nan - np.nan)\n",
    "print(np.nan in set([np.nan])) \n",
    "print(0.3 == 3 * 0.1)"
   ]
  },
  {
   "cell_type": "markdown",
   "metadata": {},
   "source": [
    "### 18. Create a 5x5 matrix with values 1,2,3,4 just below the diagonal"
   ]
  },
  {
   "cell_type": "code",
   "execution_count": 18,
   "metadata": {},
   "outputs": [
    {
     "name": "stdout",
     "output_type": "stream",
     "text": [
      "[[0 0 0 0 0]\n",
      " [1 0 0 0 0]\n",
      " [0 2 0 0 0]\n",
      " [0 0 3 0 0]\n",
      " [0 0 0 4 0]]\n"
     ]
    }
   ],
   "source": [
    "diagonal_matrix = np.diag(1 + np.arange(4), k=-1)\n",
    "print(diagonal_matrix)"
   ]
  },
  {
   "cell_type": "markdown",
   "metadata": {},
   "source": [
    "### 19. Create an 8x8 matrix and fill it with a checkerboard pattern"
   ]
  },
  {
   "cell_type": "code",
   "execution_count": 19,
   "metadata": {},
   "outputs": [
    {
     "name": "stdout",
     "output_type": "stream",
     "text": [
      "[[0 1 0 1 0 1 0 1]\n",
      " [1 0 1 0 1 0 1 0]\n",
      " [0 1 0 1 0 1 0 1]\n",
      " [1 0 1 0 1 0 1 0]\n",
      " [0 1 0 1 0 1 0 1]\n",
      " [1 0 1 0 1 0 1 0]\n",
      " [0 1 0 1 0 1 0 1]\n",
      " [1 0 1 0 1 0 1 0]]\n"
     ]
    }
   ],
   "source": [
    "checkerboard_matrix = np.zeros((8, 8), dtype=int)\n",
    "checkerboard_matrix[1::2, ::2] = 1\n",
    "checkerboard_matrix[::2, 1::2] = 1\n",
    "print(checkerboard_matrix)"
   ]
  },
  {
   "cell_type": "markdown",
   "metadata": {},
   "source": [
    "### 20. Consider a (6,7,8) shape array, what is the index (x,y,z) of the 100th element?"
   ]
  },
  {
   "cell_type": "code",
   "execution_count": 20,
   "metadata": {},
   "outputs": [
    {
     "name": "stdout",
     "output_type": "stream",
     "text": [
      "(1, 5, 3)\n"
     ]
    }
   ],
   "source": [
    "print(np.unravel_index(99, (6, 7, 8)))"
   ]
  },
  {
   "cell_type": "markdown",
   "metadata": {},
   "source": [
    "### 21. Create a checkerboard 8x8 matrix using the tile function"
   ]
  },
  {
   "cell_type": "code",
   "execution_count": 21,
   "metadata": {},
   "outputs": [
    {
     "name": "stdout",
     "output_type": "stream",
     "text": [
      "[[0 1 0 1 0 1 0 1]\n",
      " [1 0 1 0 1 0 1 0]\n",
      " [0 1 0 1 0 1 0 1]\n",
      " [1 0 1 0 1 0 1 0]\n",
      " [0 1 0 1 0 1 0 1]\n",
      " [1 0 1 0 1 0 1 0]\n",
      " [0 1 0 1 0 1 0 1]\n",
      " [1 0 1 0 1 0 1 0]]\n"
     ]
    }
   ],
   "source": [
    "checkerboard = np.tile(np.array([[0, 1], [1, 0]]), (4, 4))\n",
    "print(checkerboard)\n"
   ]
  },
  {
   "cell_type": "markdown",
   "metadata": {},
   "source": [
    "### 22. Normalize a 5x5 random matrix"
   ]
  },
  {
   "cell_type": "code",
   "execution_count": 22,
   "metadata": {},
   "outputs": [
    {
     "name": "stdout",
     "output_type": "stream",
     "text": [
      "[[0.83501681 0.45221531 0.80523738 0.55406074 0.22476807]\n",
      " [0.56253134 0.48562495 0.28865166 0.7006747  0.11623184]\n",
      " [0.53088219 1.         0.74298243 0.44286893 0.43649873]\n",
      " [0.34533175 0.         0.125324   0.57151201 0.86053245]\n",
      " [0.58856343 0.50747582 0.26916228 0.17516874 0.74051073]]\n"
     ]
    }
   ],
   "source": [
    "A = np.random.random((5, 5))\n",
    "normalized_A = (A - A.min()) / (A.max() - A.min())\n",
    "print(normalized_A)"
   ]
  },
  {
   "cell_type": "markdown",
   "metadata": {},
   "source": [
    "### 23. Create a custom dtype that describes a color as four unsigned bytes (RGBA)"
   ]
  },
  {
   "cell_type": "code",
   "execution_count": 23,
   "metadata": {},
   "outputs": [],
   "source": [
    "color = np.dtype([('R', np.ubyte),\n",
    "                    ('G', np.ubyte),\n",
    "                    ('B', np.ubyte),\n",
    "                    ('A', np.ubyte)])"
   ]
  },
  {
   "cell_type": "markdown",
   "metadata": {},
   "source": [
    "### 24. Multiply a 5x3 matrix by a 3x2 matrix (real matrix product)"
   ]
  },
  {
   "cell_type": "code",
   "execution_count": 24,
   "metadata": {},
   "outputs": [
    {
     "name": "stdout",
     "output_type": "stream",
     "text": [
      "[[0.90655626 0.99201499]\n",
      " [0.39145086 0.36122561]\n",
      " [1.27438831 1.11650629]\n",
      " [0.82466619 0.79257029]\n",
      " [0.84834033 0.60409067]]\n"
     ]
    }
   ],
   "source": [
    "A = np.random.random((5, 3))\n",
    "B = np.random.random((3, 2))\n",
    "print(np.dot(A, B))"
   ]
  },
  {
   "cell_type": "markdown",
   "metadata": {},
   "source": [
    "### 25. Given a 1D array, negate all elements which are between 3 and 8, in place."
   ]
  },
  {
   "cell_type": "code",
   "execution_count": 25,
   "metadata": {},
   "outputs": [
    {
     "name": "stdout",
     "output_type": "stream",
     "text": [
      "[ 0  1  2  3 -4 -5 -6 -7  8  9]\n"
     ]
    }
   ],
   "source": [
    "A = np.arange(10)\n",
    "A[(A > 3) & (A < 8)] *= -1\n",
    "print(A)"
   ]
  },
  {
   "cell_type": "markdown",
   "metadata": {},
   "source": [
    "### 26. What is the output of the following script?"
   ]
  },
  {
   "cell_type": "code",
   "execution_count": 26,
   "metadata": {},
   "outputs": [
    {
     "name": "stdout",
     "output_type": "stream",
     "text": [
      "9\n",
      "10\n"
     ]
    }
   ],
   "source": [
    "print(sum(range(5),-1))\n",
    "from numpy import *\n",
    "print(sum(range(5),-1))"
   ]
  },
  {
   "cell_type": "markdown",
   "metadata": {},
   "source": [
    "### 27. Consider an integer vector Z, which of these expressions are legal?"
   ]
  },
  {
   "cell_type": "code",
   "execution_count": 105,
   "metadata": {},
   "outputs": [
    {
     "name": "stdout",
     "output_type": "stream",
     "text": [
      "[  1   1   4  27 256]\n",
      "[0 1 2 4 8]\n",
      "[False False False False False]\n",
      "[0.+0.j 0.+1.j 0.+2.j 0.+3.j 0.+4.j]\n",
      "[0. 1. 2. 3. 4.]\n"
     ]
    },
    {
     "ename": "ValueError",
     "evalue": "The truth value of an array with more than one element is ambiguous. Use a.any() or a.all()",
     "output_type": "error",
     "traceback": [
      "\u001b[0;31m---------------------------------------------------------------------------\u001b[0m",
      "\u001b[0;31mValueError\u001b[0m                                Traceback (most recent call last)",
      "Cell \u001b[0;32mIn[105], line 7\u001b[0m\n\u001b[1;32m      5\u001b[0m \u001b[38;5;28mprint\u001b[39m(\u001b[38;5;241m1\u001b[39mj\u001b[38;5;241m*\u001b[39mZ)         \u001b[38;5;66;03m# Legal (complex multiplication)\u001b[39;00m\n\u001b[1;32m      6\u001b[0m \u001b[38;5;28mprint\u001b[39m(Z\u001b[38;5;241m/\u001b[39m\u001b[38;5;241m1\u001b[39m\u001b[38;5;241m/\u001b[39m\u001b[38;5;241m1\u001b[39m)        \u001b[38;5;66;03m# Legal (element-wise division)\u001b[39;00m\n\u001b[0;32m----> 7\u001b[0m \u001b[38;5;28mprint\u001b[39m(Z\u001b[38;5;241m<\u001b[39mZ\u001b[38;5;241m>\u001b[39mZ)\n",
      "\u001b[0;31mValueError\u001b[0m: The truth value of an array with more than one element is ambiguous. Use a.any() or a.all()"
     ]
    }
   ],
   "source": [
    "Z = np.arange(5)\n",
    "print(Z**Z)         # Legal (element-wise power)\n",
    "print(2 << Z >> 2)  # Legal (bitwise shift)\n",
    "print(Z <- Z)       # Legal (element-wise comparison)\n",
    "print(1j*Z)         # Legal (complex multiplication)\n",
    "print(Z/1/1)        # Legal (element-wise division)\n",
    "print(Z<Z>Z)        # Illegal (chained comparison)"
   ]
  },
  {
   "cell_type": "markdown",
   "metadata": {},
   "source": [
    "### 28. What are the result of the following expressions?"
   ]
  },
  {
   "cell_type": "code",
   "execution_count": 28,
   "metadata": {},
   "outputs": [
    {
     "name": "stderr",
     "output_type": "stream",
     "text": [
      "/tmp/ipykernel_1679/548293649.py:1: RuntimeWarning: invalid value encountered in divide\n",
      "  np.array(0) / np.array(0)\n",
      "/tmp/ipykernel_1679/548293649.py:2: RuntimeWarning: divide by zero encountered in floor_divide\n",
      "  np.array(0) // np.array(0)\n",
      "/tmp/ipykernel_1679/548293649.py:3: RuntimeWarning: invalid value encountered in cast\n",
      "  np.array([np.nan]).astype(int).astype(float)\n"
     ]
    },
    {
     "data": {
      "text/plain": [
       "array([-9.22337204e+18])"
      ]
     },
     "execution_count": 28,
     "metadata": {},
     "output_type": "execute_result"
    }
   ],
   "source": [
    "np.array(0) / np.array(0)\n",
    "np.array(0) // np.array(0)\n",
    "np.array([np.nan]).astype(int).astype(float)"
   ]
  },
  {
   "cell_type": "markdown",
   "metadata": {},
   "source": [
    "### 29. How to round away from zero a float array?"
   ]
  },
  {
   "cell_type": "code",
   "execution_count": 29,
   "metadata": {},
   "outputs": [
    {
     "name": "stdout",
     "output_type": "stream",
     "text": [
      "[ -8.   6.   9.   1.   7.  -7.  -9.   4. -10.   6.]\n"
     ]
    }
   ],
   "source": [
    "A = np.random.uniform(-10, 10, 10)\n",
    "print(np.copysign(np.ceil(np.abs(A)), A))"
   ]
  },
  {
   "cell_type": "markdown",
   "metadata": {},
   "source": [
    "### 30. How to find common values between two arrays?"
   ]
  },
  {
   "cell_type": "code",
   "execution_count": 30,
   "metadata": {},
   "outputs": [
    {
     "name": "stdout",
     "output_type": "stream",
     "text": [
      "[3 4 5]\n"
     ]
    }
   ],
   "source": [
    "A = np.array([1, 2, 3, 4, 5])\n",
    "B = np.array([3, 4, 5, 6, 7])\n",
    "common_values = np.intersect1d(A, B)\n",
    "print(common_values)"
   ]
  },
  {
   "cell_type": "markdown",
   "metadata": {},
   "source": [
    "### 31. How to ignore all numpy warnings (not recommended)?"
   ]
  },
  {
   "cell_type": "code",
   "execution_count": 31,
   "metadata": {},
   "outputs": [
    {
     "data": {
      "text/plain": [
       "array([nan, inf, inf, inf])"
      ]
     },
     "execution_count": 31,
     "metadata": {},
     "output_type": "execute_result"
    }
   ],
   "source": [
    "np.seterr(all='ignore')\n",
    "np.arange(4) / 0"
   ]
  },
  {
   "cell_type": "markdown",
   "metadata": {},
   "source": [
    "### 32. Is the following expression true?"
   ]
  },
  {
   "cell_type": "code",
   "execution_count": 32,
   "metadata": {},
   "outputs": [
    {
     "data": {
      "text/plain": [
       "False"
      ]
     },
     "execution_count": 32,
     "metadata": {},
     "output_type": "execute_result"
    }
   ],
   "source": [
    "np.sqrt(-1) == np.emath.sqrt(-1)"
   ]
  },
  {
   "cell_type": "markdown",
   "metadata": {},
   "source": [
    "### 33. How to get the dates of yesterday, today and tomorrow?"
   ]
  },
  {
   "cell_type": "code",
   "execution_count": 33,
   "metadata": {},
   "outputs": [
    {
     "name": "stdout",
     "output_type": "stream",
     "text": [
      "Yesterday: 2024-02-07\n",
      "Today: 2024-02-08\n",
      "Tomorrow: 2024-02-09\n"
     ]
    }
   ],
   "source": [
    "yesterday = np.datetime64('today') - np.timedelta64(1)\n",
    "today = np.datetime64('today')\n",
    "tomorrow = np.datetime64('today') + np.timedelta64(1)\n",
    "print(f\"Yesterday: {yesterday}\")\n",
    "print(f\"Today: {today}\")\n",
    "print(f\"Tomorrow: {tomorrow}\")"
   ]
  },
  {
   "cell_type": "markdown",
   "metadata": {},
   "source": [
    "### 34. How to get all the dates corresponding to the month of July 2016?"
   ]
  },
  {
   "cell_type": "code",
   "execution_count": 34,
   "metadata": {},
   "outputs": [
    {
     "name": "stdout",
     "output_type": "stream",
     "text": [
      "['2016-07-01' '2016-07-02' '2016-07-03' '2016-07-04' '2016-07-05'\n",
      " '2016-07-06' '2016-07-07' '2016-07-08' '2016-07-09' '2016-07-10'\n",
      " '2016-07-11' '2016-07-12' '2016-07-13' '2016-07-14' '2016-07-15'\n",
      " '2016-07-16' '2016-07-17' '2016-07-18' '2016-07-19' '2016-07-20'\n",
      " '2016-07-21' '2016-07-22' '2016-07-23' '2016-07-24' '2016-07-25'\n",
      " '2016-07-26' '2016-07-27' '2016-07-28' '2016-07-29' '2016-07-30'\n",
      " '2016-07-31']\n"
     ]
    }
   ],
   "source": [
    "dates_july_2016 = np.arange('2016-07', '2016-08', dtype='datetime64[D]')\n",
    "print(dates_july_2016)"
   ]
  },
  {
   "cell_type": "markdown",
   "metadata": {},
   "source": [
    "### 35. How to compute ((A+B)*(-A/2)) in place (without copy)?"
   ]
  },
  {
   "cell_type": "code",
   "execution_count": 35,
   "metadata": {},
   "outputs": [
    {
     "name": "stdout",
     "output_type": "stream",
     "text": [
      "[1. 1. 1.]\n",
      "[2. 2. 2.]\n",
      "[-1.5 -1.5 -1.5]\n"
     ]
    }
   ],
   "source": [
    "A = np.ones(3)\n",
    "B = np.ones(3) * 2\n",
    "print(A)\n",
    "print(B)\n",
    "print(np.multiply(A + B, -A / 2, out=(A + B)))\n"
   ]
  },
  {
   "cell_type": "markdown",
   "metadata": {},
   "source": [
    "### 36. Extract the integer part of a random array of positive numbers using 4 different methods"
   ]
  },
  {
   "cell_type": "code",
   "execution_count": 36,
   "metadata": {},
   "outputs": [
    {
     "name": "stdout",
     "output_type": "stream",
     "text": [
      "[6 3 1 7 7]\n",
      "[6. 3. 1. 7. 7.]\n",
      "[6. 3. 1. 7. 7.]\n",
      "[6. 3. 1. 7. 7.]\n"
     ]
    }
   ],
   "source": [
    "A = np.random.uniform(0, 10, 5)\n",
    "print(A.astype(int))\n",
    "print(np.floor(A))\n",
    "print(np.ceil(A) - 1)\n",
    "print(np.trunc(A))"
   ]
  },
  {
   "cell_type": "markdown",
   "metadata": {},
   "source": [
    "### 37. Create a 5x5 matrix with row values ranging from 0 to 4"
   ]
  },
  {
   "cell_type": "code",
   "execution_count": 37,
   "metadata": {},
   "outputs": [
    {
     "name": "stdout",
     "output_type": "stream",
     "text": [
      "[[0 1 2 3 4]\n",
      " [0 1 2 3 4]\n",
      " [0 1 2 3 4]\n",
      " [0 1 2 3 4]\n",
      " [0 1 2 3 4]]\n"
     ]
    }
   ],
   "source": [
    "A = np.tile(np.arange(5), (5, 1))\n",
    "print(A)"
   ]
  },
  {
   "cell_type": "markdown",
   "metadata": {},
   "source": [
    "### 38. Consider a generator function that generates 10 integers and use it to build an array"
   ]
  },
  {
   "cell_type": "code",
   "execution_count": 38,
   "metadata": {},
   "outputs": [
    {
     "name": "stdout",
     "output_type": "stream",
     "text": [
      "[0 1 2 3 4 5 6 7 8 9]\n"
     ]
    }
   ],
   "source": [
    "def generator():\n",
    "    for i in range(10):\n",
    "        yield i\n",
    "\n",
    "print(np.fromiter(generator(), dtype=int))"
   ]
  },
  {
   "cell_type": "markdown",
   "metadata": {},
   "source": [
    "### 39. Create a vector of size 10 with values ranging from 0 to 1, both excluded"
   ]
  },
  {
   "cell_type": "code",
   "execution_count": 39,
   "metadata": {},
   "outputs": [
    {
     "name": "stdout",
     "output_type": "stream",
     "text": [
      "[0.09090909 0.18181818 0.27272727 0.36363636 0.45454545 0.54545455\n",
      " 0.63636364 0.72727273 0.81818182 0.90909091]\n"
     ]
    }
   ],
   "source": [
    "A = np.linspace(0, 1, 12)[1:-1]\n",
    "print(A)"
   ]
  },
  {
   "cell_type": "markdown",
   "metadata": {},
   "source": [
    "### 40. Create a random vector of size 10 and sort it"
   ]
  },
  {
   "cell_type": "code",
   "execution_count": 40,
   "metadata": {},
   "outputs": [
    {
     "name": "stdout",
     "output_type": "stream",
     "text": [
      "[0.02250205 0.11887296 0.14289514 0.18135048 0.32230975 0.37551466\n",
      " 0.67631484 0.74307251 0.89585076 0.92117061]\n"
     ]
    }
   ],
   "source": [
    "A = np.random.random(10)\n",
    "A.sort()\n",
    "print(A)"
   ]
  },
  {
   "cell_type": "markdown",
   "metadata": {},
   "source": [
    "### 41. How to sum a small array faster than np.sum?"
   ]
  },
  {
   "cell_type": "code",
   "execution_count": 41,
   "metadata": {},
   "outputs": [
    {
     "name": "stdout",
     "output_type": "stream",
     "text": [
      "45\n"
     ]
    }
   ],
   "source": [
    "A = np.arange(10)\n",
    "print(np.add.reduce(A))"
   ]
  },
  {
   "cell_type": "markdown",
   "metadata": {},
   "source": [
    "### 42. Consider two random array A and B, check if they are equal"
   ]
  },
  {
   "cell_type": "code",
   "execution_count": 42,
   "metadata": {},
   "outputs": [
    {
     "name": "stdout",
     "output_type": "stream",
     "text": [
      "False\n"
     ]
    }
   ],
   "source": [
    "A = np.random.random(5)\n",
    "B = np.random.random(5)\n",
    "print(np.array_equal(A, B))"
   ]
  },
  {
   "cell_type": "markdown",
   "metadata": {},
   "source": [
    "### 43. Make an array immutable (read-only)"
   ]
  },
  {
   "cell_type": "code",
   "execution_count": 102,
   "metadata": {},
   "outputs": [
    {
     "name": "stdout",
     "output_type": "stream",
     "text": [
      "Error: assignment destination is read-only\n"
     ]
    }
   ],
   "source": [
    "A = np.zeros(10)\n",
    "A.flags.writeable = False\n",
    "try:\n",
    "    A[0] = 4  \n",
    "except ValueError as e:\n",
    "    print(f\"Error: {e}\")"
   ]
  },
  {
   "cell_type": "markdown",
   "metadata": {},
   "source": [
    "### 44. Consider a random 10x2 matrix representing cartesian coordinates, convert them to polar coordinates"
   ]
  },
  {
   "cell_type": "code",
   "execution_count": 44,
   "metadata": {},
   "outputs": [
    {
     "name": "stdout",
     "output_type": "stream",
     "text": [
      "[[0.1023768  0.51927432]\n",
      " [0.4853371  1.53005807]\n",
      " [0.95725729 0.39234475]\n",
      " [1.01319166 0.5880659 ]\n",
      " [1.24204523 0.69519771]\n",
      " [1.00052283 1.1767901 ]\n",
      " [0.81912017 1.13006031]\n",
      " [1.1886537  0.80171751]\n",
      " [0.82669858 0.72897315]\n",
      " [0.7959555  1.1294192 ]]\n"
     ]
    }
   ],
   "source": [
    "A = np.random.random((10, 2))\n",
    "x, y = A[:, 0], A[:, 1]\n",
    "r = np.sqrt(x**2 + y**2)\n",
    "theta = np.arctan2(y, x)\n",
    "print(np.column_stack((r, theta)))"
   ]
  },
  {
   "cell_type": "markdown",
   "metadata": {},
   "source": [
    "### 45. Create random vector of size 10 and replace the maximum value by 0"
   ]
  },
  {
   "cell_type": "code",
   "execution_count": 45,
   "metadata": {},
   "outputs": [
    {
     "name": "stdout",
     "output_type": "stream",
     "text": [
      "[0.46606432 0.27043027 0.44139972 0.16255827 0.79092769 0.\n",
      " 0.97048864 0.52328895 0.38569038 0.08174185]\n"
     ]
    }
   ],
   "source": [
    "A = np.random.random(10)\n",
    "A[A.argmax()] = 0\n",
    "print(A)"
   ]
  },
  {
   "cell_type": "markdown",
   "metadata": {},
   "source": [
    "### 46. Create a structured array with x and y coordinates covering the [0,1]x[0,1] area"
   ]
  },
  {
   "cell_type": "code",
   "execution_count": 46,
   "metadata": {},
   "outputs": [
    {
     "name": "stdout",
     "output_type": "stream",
     "text": [
      "[[(0.  , 0.  ) (0.25, 0.  ) (0.5 , 0.  ) (0.75, 0.  ) (1.  , 0.  )]\n",
      " [(0.  , 0.25) (0.25, 0.25) (0.5 , 0.25) (0.75, 0.25) (1.  , 0.25)]\n",
      " [(0.  , 0.5 ) (0.25, 0.5 ) (0.5 , 0.5 ) (0.75, 0.5 ) (1.  , 0.5 )]\n",
      " [(0.  , 0.75) (0.25, 0.75) (0.5 , 0.75) (0.75, 0.75) (1.  , 0.75)]\n",
      " [(0.  , 1.  ) (0.25, 1.  ) (0.5 , 1.  ) (0.75, 1.  ) (1.  , 1.  )]]\n"
     ]
    }
   ],
   "source": [
    "A = np.zeros((5, 5), [('x', float), ('y', float)])\n",
    "A['x'], A['y'] = np.meshgrid(np.linspace(0, 1, 5),\n",
    "                                                            np.linspace(0, 1, 5))\n",
    "print(A)"
   ]
  },
  {
   "cell_type": "markdown",
   "metadata": {},
   "source": [
    "### 47. Given two arrays, X and Y, construct the Cauchy matrix C (Cij = 1/(xi - yj))"
   ]
  },
  {
   "cell_type": "code",
   "execution_count": 47,
   "metadata": {},
   "outputs": [
    {
     "name": "stdout",
     "output_type": "stream",
     "text": [
      "33961.93294480225\n"
     ]
    }
   ],
   "source": [
    "X = np.arange(10)\n",
    "Y = X + 0.5\n",
    "C = 1.0 / np.subtract.outer(X, Y)\n",
    "print(np.linalg.det(C))"
   ]
  },
  {
   "cell_type": "markdown",
   "metadata": {},
   "source": [
    "### 48. Print the minimum and maximum representable value for each numpy scalar type"
   ]
  },
  {
   "cell_type": "code",
   "execution_count": 48,
   "metadata": {},
   "outputs": [
    {
     "name": "stdout",
     "output_type": "stream",
     "text": [
      "<class 'numpy.int8'>: -128 to 127\n",
      "<class 'numpy.int16'>: -32768 to 32767\n",
      "<class 'numpy.int32'>: -2147483648 to 2147483647\n",
      "<class 'numpy.int64'>: -9223372036854775808 to 9223372036854775807\n",
      "<class 'numpy.uint8'>: 0 to 255\n",
      "<class 'numpy.uint16'>: 0 to 65535\n",
      "<class 'numpy.uint32'>: 0 to 4294967295\n",
      "<class 'numpy.uint64'>: 0 to 18446744073709551615\n",
      "<class 'numpy.float16'>: -65504.0 to 65504.0\n",
      "<class 'numpy.float32'>: -3.4028234663852886e+38 to 3.4028234663852886e+38\n",
      "<class 'numpy.float64'>: -1.7976931348623157e+308 to 1.7976931348623157e+308\n"
     ]
    }
   ],
   "source": [
    "for dtype in np.sctypes['int'] + np.sctypes['uint'] + [np.float16, np.float32, np.float64]:\n",
    "    if np.issubdtype(dtype, np.integer):\n",
    "        info = np.iinfo(dtype)\n",
    "        print(f\"{dtype}: {info.min} to {info.max}\")\n",
    "    elif np.issubdtype(dtype, np.floating):\n",
    "        info = np.finfo(dtype)\n",
    "        print(f\"{dtype}: {info.min} to {info.max}\")"
   ]
  },
  {
   "cell_type": "markdown",
   "metadata": {},
   "source": [
    "### 49. How to print all the values of an array?"
   ]
  },
  {
   "cell_type": "code",
   "execution_count": 49,
   "metadata": {},
   "outputs": [
    {
     "name": "stdout",
     "output_type": "stream",
     "text": [
      "[  0   1   2   3   4   5   6   7   8   9  10  11  12  13  14  15  16  17\n",
      "  18  19  20  21  22  23  24  25  26  27  28  29  30  31  32  33  34  35\n",
      "  36  37  38  39  40  41  42  43  44  45  46  47  48  49  50  51  52  53\n",
      "  54  55  56  57  58  59  60  61  62  63  64  65  66  67  68  69  70  71\n",
      "  72  73  74  75  76  77  78  79  80  81  82  83  84  85  86  87  88  89\n",
      "  90  91  92  93  94  95  96  97  98  99 100 101 102 103 104 105 106 107\n",
      " 108 109 110 111 112 113 114 115 116 117 118 119 120 121 122 123 124 125\n",
      " 126 127 128 129 130 131 132 133 134 135 136 137 138 139 140 141 142 143\n",
      " 144 145 146 147 148 149 150 151 152 153 154 155 156 157 158 159 160 161\n",
      " 162 163 164 165 166 167 168 169 170 171 172 173 174 175 176 177 178 179\n",
      " 180 181 182 183 184 185 186 187 188 189 190 191 192 193 194 195 196 197\n",
      " 198 199]\n"
     ]
    }
   ],
   "source": [
    "np.set_printoptions(threshold=np.inf)\n",
    "A = np.arange(200)\n",
    "print(A)"
   ]
  },
  {
   "cell_type": "markdown",
   "metadata": {},
   "source": [
    "### 50. How to find the closest value (to a given scalar) in a vector?"
   ]
  },
  {
   "cell_type": "code",
   "execution_count": 50,
   "metadata": {},
   "outputs": [
    {
     "name": "stdout",
     "output_type": "stream",
     "text": [
      "7\n"
     ]
    }
   ],
   "source": [
    "A = np.arange(10)\n",
    "scalar = 7.5\n",
    "closest_value = A[(np.abs(A - scalar)).argmin()]\n",
    "print(closest_value)"
   ]
  },
  {
   "cell_type": "markdown",
   "metadata": {},
   "source": [
    "### 51. Create a structured array representing a position (x,y) and a color (r,g,b)"
   ]
  },
  {
   "cell_type": "code",
   "execution_count": 51,
   "metadata": {},
   "outputs": [
    {
     "name": "stdout",
     "output_type": "stream",
     "text": [
      "[((0., 0.), (0, 0, 0))]\n"
     ]
    }
   ],
   "source": [
    "A = np.zeros(1, [('position', [('x', float), ('y', float)]),\n",
    "                                               ('color', [('r', int), ('g', int), ('b', int)])])\n",
    "print(A)"
   ]
  },
  {
   "cell_type": "markdown",
   "metadata": {},
   "source": [
    "### 52. Consider a random vector with shape (100,2) representing coordinates, find point by point distances"
   ]
  },
  {
   "cell_type": "code",
   "execution_count": 52,
   "metadata": {},
   "outputs": [
    {
     "name": "stdout",
     "output_type": "stream",
     "text": [
      "[[0.         0.52635538 0.20035688 0.87288623 0.50089566 0.9335973\n",
      "  0.80637772 1.04942286 0.50787755 0.6677959 ]\n",
      " [0.52635538 0.         0.3363115  0.45619355 0.06962803 0.91268509\n",
      "  0.9766662  0.68398961 0.02037978 0.14157839]\n",
      " [0.20035688 0.3363115  0.         0.73058654 0.30329605 0.94069831\n",
      "  0.88414063 0.93069427 0.3194385  0.47588632]\n",
      " [0.87288623 0.45619355 0.73058654 0.         0.52487152 0.70779166\n",
      "  0.92253455 0.23407111 0.46041773 0.39881113]\n",
      " [0.50089566 0.06962803 0.30329605 0.52487152 0.         0.96750599\n",
      "  1.01387413 0.75340993 0.07236372 0.17981422]\n",
      " [0.9335973  0.91268509 0.94069831 0.70779166 0.96750599 0.\n",
      "  0.33436642 0.63503673 0.90004187 0.96412422]\n",
      " [0.80637772 0.9766662  0.88414063 0.92253455 1.01387413 0.33436642\n",
      "  0.         0.91497446 0.95927988 1.06829799]\n",
      " [1.04942286 0.68398961 0.93069427 0.23407111 0.75340993 0.63503673\n",
      "  0.91497446 0.         0.68613315 0.63285428]\n",
      " [0.50787755 0.02037978 0.3194385  0.46041773 0.07236372 0.90004187\n",
      "  0.95927988 0.68613315 0.         0.16069882]\n",
      " [0.6677959  0.14157839 0.47588632 0.39881113 0.17981422 0.96412422\n",
      "  1.06829799 0.63285428 0.16069882 0.        ]]\n"
     ]
    }
   ],
   "source": [
    "A = np.random.random((10,2))\n",
    "X,Y = np.atleast_2d(A[:,0], A[:,1])\n",
    "Distance = np.sqrt( (X-X.T)**2 + (Y-Y.T)**2)\n",
    "print(Distance)\n"
   ]
  },
  {
   "cell_type": "markdown",
   "metadata": {},
   "source": [
    "### 53. How to convert a float (32 bits) array into an integer (32 bits) in place?"
   ]
  },
  {
   "cell_type": "code",
   "execution_count": 53,
   "metadata": {},
   "outputs": [
    {
     "name": "stdout",
     "output_type": "stream",
     "text": [
      "[         0 1065353216 1073741824 1077936128 1082130432 1084227584\n",
      " 1086324736 1088421888 1090519040 1091567616]\n"
     ]
    }
   ],
   "source": [
    "float_32 = np.arange(10, dtype=np.float32)\n",
    "int_32 = float_32.view(np.int32)\n",
    "print(int_32)"
   ]
  },
  {
   "cell_type": "markdown",
   "metadata": {},
   "source": [
    "### 54. How to read the following file?"
   ]
  },
  {
   "cell_type": "code",
   "execution_count": 54,
   "metadata": {},
   "outputs": [
    {
     "name": "stdout",
     "output_type": "stream",
     "text": [
      "[[ 1  2  3  4  5]\n",
      " [ 6 -1 -1  7  8]\n",
      " [-1 -1  9 10 11]]\n"
     ]
    }
   ],
   "source": [
    "from io import StringIO\n",
    "\n",
    "A = StringIO('''1, 2, 3, 4, 5\n",
    "     6,  ,  , 7, 8\n",
    "     ,  , 9,10,11\n",
    "''')\n",
    "\n",
    "data = np.genfromtxt(A, delimiter=\",\", dtype=np.int_)\n",
    "print(data)"
   ]
  },
  {
   "cell_type": "markdown",
   "metadata": {},
   "source": [
    "### 55. What is the equivalent of enumerate for numpy arrays?"
   ]
  },
  {
   "cell_type": "code",
   "execution_count": 55,
   "metadata": {},
   "outputs": [
    {
     "name": "stdout",
     "output_type": "stream",
     "text": [
      "(0, 0) 0\n",
      "(0, 1) 1\n",
      "(0, 2) 2\n",
      "(1, 0) 3\n",
      "(1, 1) 4\n",
      "(1, 2) 5\n",
      "(2, 0) 6\n",
      "(2, 1) 7\n",
      "(2, 2) 8\n"
     ]
    }
   ],
   "source": [
    "A = np.arange(9).reshape(3, 3)\n",
    "for index, value in np.ndenumerate(A):\n",
    "    print(index, value)"
   ]
  },
  {
   "cell_type": "markdown",
   "metadata": {},
   "source": [
    "### 56. Generate a generic 2D Gaussian-like array"
   ]
  },
  {
   "cell_type": "code",
   "execution_count": 56,
   "metadata": {},
   "outputs": [
    {
     "name": "stdout",
     "output_type": "stream",
     "text": [
      "[[0.36787944 0.53526143 0.60653066 0.53526143 0.36787944]\n",
      " [0.53526143 0.77880078 0.8824969  0.77880078 0.53526143]\n",
      " [0.60653066 0.8824969  1.         0.8824969  0.60653066]\n",
      " [0.53526143 0.77880078 0.8824969  0.77880078 0.53526143]\n",
      " [0.36787944 0.53526143 0.60653066 0.53526143 0.36787944]]\n"
     ]
    }
   ],
   "source": [
    "import numpy as np\n",
    "x, y = np.meshgrid(np.linspace(-1, 1, 5), np.linspace(-1, 1, 5))\n",
    "d = np.sqrt(x*x + y*y)\n",
    "sigma, mu = 1.0, 0.0\n",
    "gaussian_array = np.exp(-( (d-mu)**2 / ( 2.0 * sigma**2 ) ))\n",
    "print(gaussian_array)"
   ]
  },
  {
   "cell_type": "markdown",
   "metadata": {},
   "source": [
    "### 57. How to randomly place p elements in a 2D array?"
   ]
  },
  {
   "cell_type": "code",
   "execution_count": 57,
   "metadata": {},
   "outputs": [
    {
     "name": "stdout",
     "output_type": "stream",
     "text": [
      "[[0. 0. 1. 0. 0.]\n",
      " [0. 0. 0. 0. 0.]\n",
      " [1. 0. 1. 0. 0.]\n",
      " [0. 0. 0. 0. 0.]\n",
      " [0. 0. 0. 0. 0.]]\n"
     ]
    }
   ],
   "source": [
    "p = 3\n",
    "A = np.zeros((5, 5))\n",
    "np.put(A, np.random.choice(range(5*5), p, replace=False), 1)\n",
    "print(A)"
   ]
  },
  {
   "cell_type": "markdown",
   "metadata": {},
   "source": [
    "### 58. Subtract the mean of each row of a matrix"
   ]
  },
  {
   "cell_type": "code",
   "execution_count": 58,
   "metadata": {},
   "outputs": [
    {
     "name": "stdout",
     "output_type": "stream",
     "text": [
      "[[ 0.12144063  0.07282718 -0.19426781]\n",
      " [ 0.28412808 -0.05235933 -0.23176875]\n",
      " [ 0.30517906 -0.22081621 -0.08436285]]\n"
     ]
    }
   ],
   "source": [
    "A = np.random.random((3, 3))\n",
    "B = A - A.mean(axis=1, keepdims=True)\n",
    "print(B)"
   ]
  },
  {
   "cell_type": "markdown",
   "metadata": {},
   "source": [
    "### 59. How to sort an array by the nth column?"
   ]
  },
  {
   "cell_type": "code",
   "execution_count": 59,
   "metadata": {},
   "outputs": [
    {
     "name": "stdout",
     "output_type": "stream",
     "text": [
      "[[4 0 4]\n",
      " [6 1 1]\n",
      " [0 6 2]]\n"
     ]
    }
   ],
   "source": [
    "A = np.random.randint(0, 10, (3, 3))\n",
    "n = 1\n",
    "sorted_A = A[A[:, n].argsort()]\n",
    "print(sorted_A)\n"
   ]
  },
  {
   "cell_type": "markdown",
   "metadata": {},
   "source": [
    "### 60. How to tell if a given 2D array has null columns?"
   ]
  },
  {
   "cell_type": "code",
   "execution_count": 60,
   "metadata": {},
   "outputs": [
    {
     "name": "stdout",
     "output_type": "stream",
     "text": [
      "[False False  True]\n"
     ]
    }
   ],
   "source": [
    "A = np.array([[1, 2, 0], [0, 4, 0], [0, 0, 0]])\n",
    "null_columns = np.all(A == 0, axis=0)\n",
    "print(null_columns)"
   ]
  },
  {
   "cell_type": "markdown",
   "metadata": {},
   "source": [
    "### 61. Find the nearest value from a given value in an array"
   ]
  },
  {
   "cell_type": "code",
   "execution_count": 61,
   "metadata": {},
   "outputs": [
    {
     "name": "stdout",
     "output_type": "stream",
     "text": [
      "0.8770292419705779\n"
     ]
    }
   ],
   "source": [
    "given_value = 5.5\n",
    "random_values = np.random.random(10)\n",
    "nearest_value = random_values[np.abs(random_values - given_value).argmin()]\n",
    "print(nearest_value)"
   ]
  },
  {
   "cell_type": "markdown",
   "metadata": {},
   "source": [
    "### 62. Considering two arrays with shape (1,3) and (3,1), how to compute their sum using an iterator?"
   ]
  },
  {
   "cell_type": "code",
   "execution_count": 62,
   "metadata": {},
   "outputs": [
    {
     "name": "stdout",
     "output_type": "stream",
     "text": [
      "[[0 1 2]\n",
      " [1 2 3]\n",
      " [2 3 4]]\n"
     ]
    }
   ],
   "source": [
    "A = np.arange(3).reshape(1, 3)\n",
    "B = np.arange(3).reshape(3, 1)\n",
    "sum_iterator = np.nditer([A, B, None])\n",
    "for a, b, c in sum_iterator:\n",
    "    c[...] = a + b\n",
    "print(sum_iterator.operands[2])"
   ]
  },
  {
   "cell_type": "markdown",
   "metadata": {},
   "source": [
    "### 63. Create an array class that has a name attribute"
   ]
  },
  {
   "cell_type": "code",
   "execution_count": 63,
   "metadata": {},
   "outputs": [
    {
     "name": "stdout",
     "output_type": "stream",
     "text": [
      "range_5\n"
     ]
    }
   ],
   "source": [
    "class NamedArray(np.ndarray):\n",
    "    def __new__(cls, array, name=\"\"):\n",
    "        obj = np.asarray(array).view(cls)\n",
    "        obj.name = name\n",
    "        return obj\n",
    "\n",
    "    def __array_finalize__(self, obj):\n",
    "        if obj is None:\n",
    "            return\n",
    "        self.info = getattr(obj, 'name', \"\")\n",
    "\n",
    "A = NamedArray(np.arange(5), \"range_5\")\n",
    "print (A.name)"
   ]
  },
  {
   "cell_type": "markdown",
   "metadata": {},
   "source": [
    "### 64. Consider a given vector, how to add 1 to each element indexed by a second vector"
   ]
  },
  {
   "cell_type": "code",
   "execution_count": 64,
   "metadata": {},
   "outputs": [
    {
     "name": "stdout",
     "output_type": "stream",
     "text": [
      "[2. 2. 2. 3. 3. 3. 2. 1. 1. 1.]\n"
     ]
    }
   ],
   "source": [
    "A = np.ones(10)\n",
    "vector_indices = np.array([0, 1, 2, 3, 3, 4, 4, 5, 5, 6])\n",
    "np.add.at(A, vector_indices, 1)\n",
    "print(A)"
   ]
  },
  {
   "cell_type": "markdown",
   "metadata": {},
   "source": [
    "### 65. How to accumulate elements of a vector (X) to an array (F) based on an index list (I)?"
   ]
  },
  {
   "cell_type": "code",
   "execution_count": 65,
   "metadata": {},
   "outputs": [
    {
     "name": "stdout",
     "output_type": "stream",
     "text": [
      "[0. 7. 0. 6. 5. 0. 0. 0. 0. 3.]\n"
     ]
    }
   ],
   "source": [
    "X = np.array([1, 2, 3, 4, 5, 6])\n",
    "I = np.array([1, 3, 9, 3, 4, 1])\n",
    "F = np.bincount(I, weights=X)\n",
    "print(F)"
   ]
  },
  {
   "cell_type": "markdown",
   "metadata": {},
   "source": [
    "### 66. Considering a (w,h,3) image of (dtype=ubyte), compute the number of unique colors"
   ]
  },
  {
   "cell_type": "code",
   "execution_count": 66,
   "metadata": {},
   "outputs": [
    {
     "name": "stdout",
     "output_type": "stream",
     "text": [
      "9996\n"
     ]
    }
   ],
   "source": [
    "image = np.random.randint(0, 256, (100, 100, 3), dtype=np.ubyte)\n",
    "unique_colors = len(np.unique(image.reshape(-1, 3), axis=0))\n",
    "print(unique_colors)"
   ]
  },
  {
   "cell_type": "markdown",
   "metadata": {},
   "source": [
    "### 67. Considering a four dimensions array, how to get sum over the last two axis at once?"
   ]
  },
  {
   "cell_type": "code",
   "execution_count": 67,
   "metadata": {},
   "outputs": [
    {
     "name": "stdout",
     "output_type": "stream",
     "text": [
      "[[ 98  72  63]\n",
      " [104 122  85]]\n"
     ]
    }
   ],
   "source": [
    "A = np.random.randint(0,10,(2, 3, 4, 5))\n",
    "sum_last_two_axes = A.sum(axis=(-2, -1))\n",
    "print(sum_last_two_axes)"
   ]
  },
  {
   "cell_type": "markdown",
   "metadata": {},
   "source": [
    "### 68. Considering a one-dimensional vector D, how to compute means of subsets of D using a vector S of the same size describing subset indices?"
   ]
  },
  {
   "cell_type": "code",
   "execution_count": 68,
   "metadata": {},
   "outputs": [
    {
     "name": "stdout",
     "output_type": "stream",
     "text": [
      "[0.54754578 0.54438078]\n"
     ]
    }
   ],
   "source": [
    "vector_D = np.random.random(10)\n",
    "vector_S = np.random.randint(0, 2, 10)\n",
    "means_subsets = np.bincount(vector_S, weights=vector_D) / np.bincount(vector_S)\n",
    "print(means_subsets)"
   ]
  },
  {
   "cell_type": "markdown",
   "metadata": {},
   "source": [
    "### 69. How to get the diagonal of a dot product?\n"
   ]
  },
  {
   "cell_type": "code",
   "execution_count": 69,
   "metadata": {},
   "outputs": [
    {
     "name": "stdout",
     "output_type": "stream",
     "text": [
      "[0.19555617 0.38422291 0.88569851]\n"
     ]
    }
   ],
   "source": [
    "A = np.random.random((3, 3))\n",
    "B = np.random.random((3, 3))\n",
    "diagonal_dot_product = np.diag(np.dot(A, B))\n",
    "print(diagonal_dot_product)"
   ]
  },
  {
   "cell_type": "markdown",
   "metadata": {},
   "source": [
    "### 70. Consider the vector [1, 2, 3, 4, 5], how to build a new vector with 3 consecutive zeros interleaved between each value?\n"
   ]
  },
  {
   "cell_type": "code",
   "execution_count": 70,
   "metadata": {},
   "outputs": [
    {
     "name": "stdout",
     "output_type": "stream",
     "text": [
      "[1 0 0 0 2 0 0 0 3 0 0 0 4 0 0 0 5]\n"
     ]
    }
   ],
   "source": [
    "A = np.array([1, 2, 3, 4, 5])\n",
    "B = np.zeros(len(A)+ (len(A) - 1) * 3, dtype=int)\n",
    "B[::4] = A\n",
    "print(B)"
   ]
  },
  {
   "cell_type": "markdown",
   "metadata": {},
   "source": [
    "### 71. Consider an array of dimension (5,5,3), how to multiply it by an array with dimensions (5,5)?"
   ]
  },
  {
   "cell_type": "code",
   "execution_count": 71,
   "metadata": {},
   "outputs": [
    {
     "name": "stdout",
     "output_type": "stream",
     "text": [
      "[[[3. 3. 3.]\n",
      "  [3. 3. 3.]\n",
      "  [3. 3. 3.]\n",
      "  [3. 3. 3.]\n",
      "  [3. 3. 3.]]\n",
      "\n",
      " [[3. 3. 3.]\n",
      "  [3. 3. 3.]\n",
      "  [3. 3. 3.]\n",
      "  [3. 3. 3.]\n",
      "  [3. 3. 3.]]\n",
      "\n",
      " [[3. 3. 3.]\n",
      "  [3. 3. 3.]\n",
      "  [3. 3. 3.]\n",
      "  [3. 3. 3.]\n",
      "  [3. 3. 3.]]\n",
      "\n",
      " [[3. 3. 3.]\n",
      "  [3. 3. 3.]\n",
      "  [3. 3. 3.]\n",
      "  [3. 3. 3.]\n",
      "  [3. 3. 3.]]\n",
      "\n",
      " [[3. 3. 3.]\n",
      "  [3. 3. 3.]\n",
      "  [3. 3. 3.]\n",
      "  [3. 3. 3.]\n",
      "  [3. 3. 3.]]]\n"
     ]
    }
   ],
   "source": [
    "A_3d = np.ones((5, 5, 3))\n",
    "A_2d = 3*np.ones((5, 5))\n",
    "X = A_3d * A_2d[:, :, None]\n",
    "print(X)"
   ]
  },
  {
   "cell_type": "markdown",
   "metadata": {},
   "source": [
    "#### 72. How to swap two rows of an array?"
   ]
  },
  {
   "cell_type": "code",
   "execution_count": 72,
   "metadata": {},
   "outputs": [
    {
     "name": "stdout",
     "output_type": "stream",
     "text": [
      "[[4 5 6]\n",
      " [1 2 3]\n",
      " [7 8 9]]\n"
     ]
    }
   ],
   "source": [
    "A = np.array([[1, 2, 3], [4, 5, 6], [7, 8, 9]])\n",
    "A[[0, 1]] = A[[1, 0]]\n",
    "print(A)"
   ]
  },
  {
   "cell_type": "markdown",
   "metadata": {},
   "source": [
    "#### 73. Consider a set of 10 triplets describing 10 triangles (with shared vertices), find the set of unique line segments composing all the  triangles"
   ]
  },
  {
   "cell_type": "code",
   "execution_count": 73,
   "metadata": {},
   "outputs": [
    {
     "name": "stdout",
     "output_type": "stream",
     "text": [
      "[[0 3]\n",
      " [0 7]\n",
      " [2 3]\n",
      " [2 6]\n",
      " [3 2]\n",
      " [3 5]\n",
      " [3 8]\n",
      " [4 0]\n",
      " [4 6]\n",
      " [5 0]\n",
      " [5 9]\n",
      " [6 3]\n",
      " [6 4]\n",
      " [6 5]\n",
      " [6 6]\n",
      " [6 9]\n",
      " [7 3]\n",
      " [7 4]\n",
      " [8 0]\n",
      " [8 2]\n",
      " [8 7]\n",
      " [8 8]\n",
      " [9 6]\n",
      " [9 9]]\n"
     ]
    }
   ],
   "source": [
    "triplets = np.random.randint(0, 10, (10, 3))\n",
    "unique_line_segments = np.unique(triplets[:, [0, 1, 1, 2, 2, 0]].reshape(-1, 2), axis=0)\n",
    "print(unique_line_segments)"
   ]
  },
  {
   "cell_type": "code",
   "execution_count": 74,
   "metadata": {},
   "outputs": [
    {
     "name": "stdout",
     "output_type": "stream",
     "text": [
      "[(0, 0) (0, 2) (0, 5) (0, 6) (0, 8) (1, 3) (1, 5) (1, 6) (1, 7) (1, 9)\n",
      " (2, 3) (2, 5) (3, 3) (3, 5) (4, 8) (5, 7) (5, 8) (5, 9) (6, 9) (7, 8)\n",
      " (8, 8)]\n"
     ]
    }
   ],
   "source": [
    "triplets = np.random.randint(0, 10, (10, 3))\n",
    "A = np.roll(triplets.repeat(2, axis=1), -1, axis=1)\n",
    "A = A.reshape(len(A) * 3, 2)\n",
    "A = np.sort(A, axis=1)\n",
    "B = A.view(dtype=[('p0', A.dtype), ('p1', A.dtype)])\n",
    "B = np.unique(B)\n",
    "\n",
    "print(B)"
   ]
  },
  {
   "cell_type": "markdown",
   "metadata": {},
   "source": [
    "### 74. Given a sorted array C that corresponds to a bincount, how to produce an array A such that np.bincount(A) == C?"
   ]
  },
  {
   "cell_type": "code",
   "execution_count": 75,
   "metadata": {},
   "outputs": [
    {
     "name": "stdout",
     "output_type": "stream",
     "text": [
      "[1 1 2 3 4 4 6]\n"
     ]
    }
   ],
   "source": [
    "C = np.bincount([1,1,2,3,4,4,6])\n",
    "A = np.repeat(np.arange(len(C)), C)\n",
    "print(A)"
   ]
  },
  {
   "cell_type": "markdown",
   "metadata": {},
   "source": [
    "### 75. How to compute averages using a sliding window over an array? "
   ]
  },
  {
   "cell_type": "code",
   "execution_count": 76,
   "metadata": {},
   "outputs": [
    {
     "name": "stdout",
     "output_type": "stream",
     "text": [
      "[ 1.  2.  3.  4.  5.  6.  7.  8.  9. 10. 11. 12. 13. 14. 15. 16. 17. 18.\n",
      " 19. 20. 21. 22. 23. 24. 25. 26. 27. 28. 29. 30. 31. 32. 33. 34. 35. 36.\n",
      " 37. 38. 39. 40. 41. 42. 43. 44. 45. 46. 47. 48. 49. 50. 51. 52. 53. 54.\n",
      " 55. 56. 57. 58. 59. 60. 61. 62. 63. 64. 65. 66. 67. 68. 69. 70. 71. 72.\n",
      " 73. 74. 75. 76. 77. 78. 79. 80. 81. 82. 83. 84. 85. 86. 87. 88. 89. 90.\n",
      " 91. 92. 93. 94. 95. 96. 97. 98.]\n"
     ]
    }
   ],
   "source": [
    "from numpy.lib.stride_tricks import sliding_window_view\n",
    "\n",
    "Z = np.arange(100)\n",
    "print(sliding_window_view(Z, window_shape=3).mean(axis=-1))"
   ]
  },
  {
   "cell_type": "markdown",
   "metadata": {},
   "source": [
    "### 76. Consider a one-dimensional array Z, build a two-dimensional array whose first row is (Z[0],Z[1],Z[2]) and each subsequent row is  shifted by 1 (last row should be (Z[-3],Z[-2],Z[-1])"
   ]
  },
  {
   "cell_type": "code",
   "execution_count": 77,
   "metadata": {},
   "outputs": [
    {
     "name": "stdout",
     "output_type": "stream",
     "text": [
      "[[0 1 2]\n",
      " [1 2 3]\n",
      " [2 3 4]\n",
      " [3 4 5]\n",
      " [4 5 6]\n",
      " [5 6 7]\n",
      " [6 7 8]\n",
      " [7 8 9]]\n"
     ]
    }
   ],
   "source": [
    "from numpy.lib import stride_tricks\n",
    "\n",
    "def rolling(a, window):\n",
    "    shape = (a.size - window + 1, window)\n",
    "    strides = (a.strides[0], a.strides[0])\n",
    "    return stride_tricks.as_strided(a, shape=shape, strides=strides)\n",
    "Z = rolling(np.arange(10), 3)\n",
    "print(Z)"
   ]
  },
  {
   "cell_type": "markdown",
   "metadata": {},
   "source": [
    "### 77. How to negate a boolean, or to change the sign of a float inplace?"
   ]
  },
  {
   "cell_type": "code",
   "execution_count": 78,
   "metadata": {},
   "outputs": [
    {
     "data": {
      "text/plain": [
       "array([0, 0, 0, 0, 0, 1, 1, 1, 1, 1, 1, 0, 0, 1, 0, 0, 0, 0, 1, 1, 0, 1,\n",
       "       0, 1, 1, 0, 1, 0, 0, 0, 0, 1, 0, 1, 1, 0, 0, 1, 0, 0, 1, 1, 0, 1,\n",
       "       0, 1, 1, 1, 1, 0, 0, 1, 1, 1, 0, 1, 0, 1, 0, 0, 1, 0, 0, 0, 0, 0,\n",
       "       0, 1, 1, 0, 0, 0, 1, 0, 0, 1, 0, 0, 0, 1, 0, 1, 0, 1, 1, 1, 0, 0,\n",
       "       0, 0, 0, 1, 1, 0, 1, 0, 1, 0, 1, 0])"
      ]
     },
     "execution_count": 78,
     "metadata": {},
     "output_type": "execute_result"
    }
   ],
   "source": [
    "A = np.random.randint(0,2,100)\n",
    "np.logical_not(A, out=A)"
   ]
  },
  {
   "cell_type": "markdown",
   "metadata": {},
   "source": [
    "### 78. Consider 2 sets of points P0,P1 describing lines (2d) and a point p, how to compute distance from p to each line i (P0[i],P1[i])? "
   ]
  },
  {
   "cell_type": "code",
   "execution_count": 79,
   "metadata": {},
   "outputs": [
    {
     "name": "stdout",
     "output_type": "stream",
     "text": [
      "[14.11035068  4.09929318  9.68310044  5.47352241  1.33507432  0.99732837\n",
      "  1.44426739  1.57510216 11.30180494  2.6256584 ]\n"
     ]
    }
   ],
   "source": [
    "def distance(P0, P1, p):\n",
    "    T = P1 - P0\n",
    "    L = (T**2).sum(axis=1)\n",
    "    U = -((P0[:,0]-p[...,0])*T[:,0] + (P0[:,1]-p[...,1])*T[:,1]) / L\n",
    "    U = U.reshape(len(U),1)\n",
    "    D = P0 + U*T - p\n",
    "    return np.sqrt((D**2).sum(axis=1))\n",
    "\n",
    "P0 = np.random.uniform(-10,10,(10,2))\n",
    "P1 = np.random.uniform(-10,10,(10,2))\n",
    "p  = np.random.uniform(-10,10,( 1,2))\n",
    "print(distance(P0, P1, p))"
   ]
  },
  {
   "cell_type": "markdown",
   "metadata": {},
   "source": [
    "### 79. Consider 2 sets of points P0,P1 describing lines (2d) and a set of points P, how to compute distance from each point j (P[j]) to each line i (P0[i],P1[i])?\n",
    "`"
   ]
  },
  {
   "cell_type": "code",
   "execution_count": 80,
   "metadata": {},
   "outputs": [
    {
     "name": "stdout",
     "output_type": "stream",
     "text": [
      "[[11.22552444  5.39508473  3.32517198  9.1345634   0.35948655  6.60496769\n",
      "  15.82876342  5.73364988  4.48805176  6.13050084]\n",
      " [ 8.73396753  2.07897655  0.33435358  6.00554652  3.31108891  9.73402149\n",
      "  12.30594079  7.1057225   1.05276959  7.70800655]\n",
      " [ 0.51097398  5.15334806  3.1250524   7.787203    6.56261488  7.95255255\n",
      "   6.23107034  0.13705502  5.59225277  0.89373232]\n",
      " [ 7.76763053  0.11257433  3.2005559   2.99586705  6.1252702  12.7437085\n",
      "  10.00125767  9.29207811  1.09792881 10.01880151]\n",
      " [ 1.00444145  5.5539957   6.04123872  3.30723026  9.27197467 12.43247874\n",
      "   5.03887282  4.90722611  6.41111565  5.97214693]\n",
      " [11.15542923  1.53506893  4.78930425  0.89872857  7.44352367 16.63822316\n",
      "  10.53375773 14.93178247  0.13985595 15.58227238]\n",
      " [10.1333521   6.86593162  7.94111779 15.48440157  4.72852701  0.25517485\n",
      "  18.3185993   0.77630691  6.5002423   0.48184105]\n",
      " [ 3.58598073 10.26491539  9.80870151  1.23520264 13.17556375 14.50458832\n",
      "   0.47778101  4.03403064 11.05771403  5.3854051 ]\n",
      " [ 5.05770186  0.29396922  0.87625942  9.59442388  2.374023    6.14522958\n",
      "  11.39512186  1.57278922  0.27726625  2.27368193]\n",
      " [10.40719916  7.2882986   8.46647114 15.98116774  5.25030292  0.2415948\n",
      "  18.78565227  1.06789085  6.94745844  0.79981367]]\n"
     ]
    }
   ],
   "source": [
    "def distance(P0, P1, p):\n",
    "    T = P1 - P0\n",
    "    L = (T**2).sum(axis=1)\n",
    "    U = -((P0[:,0]-p[...,0])*T[:,0] + (P0[:,1]-p[...,1])*T[:,1]) / L\n",
    "    U = U.reshape(len(U),1)\n",
    "    D = P0 + U*T - p\n",
    "    return np.sqrt((D**2).sum(axis=1))\\\n",
    "    \n",
    "P0 = np.random.uniform(-10, 10, (10,2))\n",
    "P1 = np.random.uniform(-10,10,(10,2))\n",
    "p = np.random.uniform(-10, 10, (10,2))\n",
    "print(np.array([distance(P0,P1,p_i) for p_i in p]))"
   ]
  },
  {
   "cell_type": "markdown",
   "metadata": {},
   "source": [
    "### 80. Consider an arbitrary array, write a function that extract a subpart with a fixed shape and centered on a given element (pad with a `fill` value when necessary)"
   ]
  },
  {
   "cell_type": "code",
   "execution_count": 81,
   "metadata": {},
   "outputs": [
    {
     "name": "stdout",
     "output_type": "stream",
     "text": [
      "[[0.90996522 0.02856888 0.70740075]\n",
      " [0.6848128  0.78557948 0.28250216]\n",
      " [0.9674791  0.60852072 0.2137288 ]]\n"
     ]
    }
   ],
   "source": [
    "def extract_subpart(array, shape, center):\n",
    "    subpart = np.full(shape, fill_value=np.nan)\n",
    "    indices = np.array(center) - np.array(shape) // 2\n",
    "    subpart_shape = np.minimum(shape, np.array(array.shape) - indices)\n",
    "    subpart[\n",
    "        tuple(slice(max(0, -i), dim) for i, dim in zip(indices, subpart_shape))\n",
    "    ] = array[\n",
    "        tuple(slice(max(0, i), min(dim, i + s)) for i, s, dim in zip(indices, subpart_shape, array.shape))\n",
    "    ]\n",
    "    return subpart\n",
    "\n",
    "A = np.random.random((10, 10))\n",
    "subpart = extract_subpart(A, (3, 3), (5, 5))\n",
    "print(subpart)\n"
   ]
  },
  {
   "cell_type": "markdown",
   "metadata": {},
   "source": [
    "### 81. Consider an array Z = [1,2,3,4,5,6,7,8,9,10,11,12,13,14], how to generate an array R"
   ]
  },
  {
   "cell_type": "code",
   "execution_count": 82,
   "metadata": {},
   "outputs": [
    {
     "name": "stdout",
     "output_type": "stream",
     "text": [
      "[[ 1  2  3  4]\n",
      " [ 2  3  4  5]\n",
      " [ 3  4  5  6]\n",
      " [ 4  5  6  7]\n",
      " [ 5  6  7  8]\n",
      " [ 6  7  8  9]\n",
      " [ 7  8  9 10]\n",
      " [ 8  9 10 11]\n",
      " [ 9 10 11 12]\n",
      " [10 11 12 13]\n",
      " [11 12 13 14]]\n"
     ]
    }
   ],
   "source": [
    "Z = np.arange(1, 15)\n",
    "R = np.lib.stride_tricks.sliding_window_view(Z, (4,))\n",
    "print(R)\n"
   ]
  },
  {
   "cell_type": "markdown",
   "metadata": {},
   "source": [
    "### 82. Compute a matrix rank"
   ]
  },
  {
   "cell_type": "code",
   "execution_count": 83,
   "metadata": {},
   "outputs": [
    {
     "name": "stdout",
     "output_type": "stream",
     "text": [
      "3\n"
     ]
    }
   ],
   "source": [
    "matrix_rank = np.linalg.matrix_rank(np.random.random((3, 3)))\n",
    "print(matrix_rank)"
   ]
  },
  {
   "cell_type": "markdown",
   "metadata": {},
   "source": [
    "### 83. How to find the most frequent value in an array?"
   ]
  },
  {
   "cell_type": "code",
   "execution_count": 84,
   "metadata": {},
   "outputs": [
    {
     "name": "stdout",
     "output_type": "stream",
     "text": [
      "[0 2 5 9 5 0 4 6 5 0 4 8 9 8 0 6 1 8 3 3]\n",
      "Most Frequent Value in the Array: 0\n"
     ]
    }
   ],
   "source": [
    "A = np.random.randint(0, 10, 20)\n",
    "frequent_value = np.bincount(A).argmax()\n",
    "print(A)\n",
    "print(f\"Most Frequent Value in the Array: {frequent_value}\")"
   ]
  },
  {
   "cell_type": "markdown",
   "metadata": {},
   "source": [
    "### 84. Extract all the contiguous 3x3 blocks from a random 10x10 matrix"
   ]
  },
  {
   "cell_type": "code",
   "execution_count": 85,
   "metadata": {},
   "outputs": [
    {
     "name": "stdout",
     "output_type": "stream",
     "text": [
      "[[[[0 2 1]\n",
      "   [2 4 4]\n",
      "   [4 0 0]]\n",
      "\n",
      "  [[2 1 3]\n",
      "   [4 4 0]\n",
      "   [0 0 3]]\n",
      "\n",
      "  [[1 3 2]\n",
      "   [4 0 4]\n",
      "   [0 3 0]]\n",
      "\n",
      "  [[3 2 3]\n",
      "   [0 4 3]\n",
      "   [3 0 2]]\n",
      "\n",
      "  [[2 3 3]\n",
      "   [4 3 2]\n",
      "   [0 2 3]]\n",
      "\n",
      "  [[3 3 4]\n",
      "   [3 2 1]\n",
      "   [2 3 1]]\n",
      "\n",
      "  [[3 4 3]\n",
      "   [2 1 0]\n",
      "   [3 1 3]]\n",
      "\n",
      "  [[4 3 4]\n",
      "   [1 0 3]\n",
      "   [1 3 0]]]\n",
      "\n",
      "\n",
      " [[[2 4 4]\n",
      "   [4 0 0]\n",
      "   [4 1 0]]\n",
      "\n",
      "  [[4 4 0]\n",
      "   [0 0 3]\n",
      "   [1 0 1]]\n",
      "\n",
      "  [[4 0 4]\n",
      "   [0 3 0]\n",
      "   [0 1 0]]\n",
      "\n",
      "  [[0 4 3]\n",
      "   [3 0 2]\n",
      "   [1 0 0]]\n",
      "\n",
      "  [[4 3 2]\n",
      "   [0 2 3]\n",
      "   [0 0 3]]\n",
      "\n",
      "  [[3 2 1]\n",
      "   [2 3 1]\n",
      "   [0 3 1]]\n",
      "\n",
      "  [[2 1 0]\n",
      "   [3 1 3]\n",
      "   [3 1 2]]\n",
      "\n",
      "  [[1 0 3]\n",
      "   [1 3 0]\n",
      "   [1 2 2]]]\n",
      "\n",
      "\n",
      " [[[4 0 0]\n",
      "   [4 1 0]\n",
      "   [4 1 1]]\n",
      "\n",
      "  [[0 0 3]\n",
      "   [1 0 1]\n",
      "   [1 1 4]]\n",
      "\n",
      "  [[0 3 0]\n",
      "   [0 1 0]\n",
      "   [1 4 3]]\n",
      "\n",
      "  [[3 0 2]\n",
      "   [1 0 0]\n",
      "   [4 3 1]]\n",
      "\n",
      "  [[0 2 3]\n",
      "   [0 0 3]\n",
      "   [3 1 0]]\n",
      "\n",
      "  [[2 3 1]\n",
      "   [0 3 1]\n",
      "   [1 0 3]]\n",
      "\n",
      "  [[3 1 3]\n",
      "   [3 1 2]\n",
      "   [0 3 1]]\n",
      "\n",
      "  [[1 3 0]\n",
      "   [1 2 2]\n",
      "   [3 1 0]]]\n",
      "\n",
      "\n",
      " [[[4 1 0]\n",
      "   [4 1 1]\n",
      "   [2 2 3]]\n",
      "\n",
      "  [[1 0 1]\n",
      "   [1 1 4]\n",
      "   [2 3 2]]\n",
      "\n",
      "  [[0 1 0]\n",
      "   [1 4 3]\n",
      "   [3 2 0]]\n",
      "\n",
      "  [[1 0 0]\n",
      "   [4 3 1]\n",
      "   [2 0 1]]\n",
      "\n",
      "  [[0 0 3]\n",
      "   [3 1 0]\n",
      "   [0 1 2]]\n",
      "\n",
      "  [[0 3 1]\n",
      "   [1 0 3]\n",
      "   [1 2 2]]\n",
      "\n",
      "  [[3 1 2]\n",
      "   [0 3 1]\n",
      "   [2 2 1]]\n",
      "\n",
      "  [[1 2 2]\n",
      "   [3 1 0]\n",
      "   [2 1 4]]]\n",
      "\n",
      "\n",
      " [[[4 1 1]\n",
      "   [2 2 3]\n",
      "   [1 3 0]]\n",
      "\n",
      "  [[1 1 4]\n",
      "   [2 3 2]\n",
      "   [3 0 3]]\n",
      "\n",
      "  [[1 4 3]\n",
      "   [3 2 0]\n",
      "   [0 3 2]]\n",
      "\n",
      "  [[4 3 1]\n",
      "   [2 0 1]\n",
      "   [3 2 1]]\n",
      "\n",
      "  [[3 1 0]\n",
      "   [0 1 2]\n",
      "   [2 1 0]]\n",
      "\n",
      "  [[1 0 3]\n",
      "   [1 2 2]\n",
      "   [1 0 0]]\n",
      "\n",
      "  [[0 3 1]\n",
      "   [2 2 1]\n",
      "   [0 0 1]]\n",
      "\n",
      "  [[3 1 0]\n",
      "   [2 1 4]\n",
      "   [0 1 4]]]\n",
      "\n",
      "\n",
      " [[[2 2 3]\n",
      "   [1 3 0]\n",
      "   [1 3 2]]\n",
      "\n",
      "  [[2 3 2]\n",
      "   [3 0 3]\n",
      "   [3 2 2]]\n",
      "\n",
      "  [[3 2 0]\n",
      "   [0 3 2]\n",
      "   [2 2 1]]\n",
      "\n",
      "  [[2 0 1]\n",
      "   [3 2 1]\n",
      "   [2 1 1]]\n",
      "\n",
      "  [[0 1 2]\n",
      "   [2 1 0]\n",
      "   [1 1 0]]\n",
      "\n",
      "  [[1 2 2]\n",
      "   [1 0 0]\n",
      "   [1 0 1]]\n",
      "\n",
      "  [[2 2 1]\n",
      "   [0 0 1]\n",
      "   [0 1 1]]\n",
      "\n",
      "  [[2 1 4]\n",
      "   [0 1 4]\n",
      "   [1 1 3]]]\n",
      "\n",
      "\n",
      " [[[1 3 0]\n",
      "   [1 3 2]\n",
      "   [0 4 0]]\n",
      "\n",
      "  [[3 0 3]\n",
      "   [3 2 2]\n",
      "   [4 0 1]]\n",
      "\n",
      "  [[0 3 2]\n",
      "   [2 2 1]\n",
      "   [0 1 1]]\n",
      "\n",
      "  [[3 2 1]\n",
      "   [2 1 1]\n",
      "   [1 1 2]]\n",
      "\n",
      "  [[2 1 0]\n",
      "   [1 1 0]\n",
      "   [1 2 1]]\n",
      "\n",
      "  [[1 0 0]\n",
      "   [1 0 1]\n",
      "   [2 1 1]]\n",
      "\n",
      "  [[0 0 1]\n",
      "   [0 1 1]\n",
      "   [1 1 2]]\n",
      "\n",
      "  [[0 1 4]\n",
      "   [1 1 3]\n",
      "   [1 2 1]]]\n",
      "\n",
      "\n",
      " [[[1 3 2]\n",
      "   [0 4 0]\n",
      "   [1 3 4]]\n",
      "\n",
      "  [[3 2 2]\n",
      "   [4 0 1]\n",
      "   [3 4 3]]\n",
      "\n",
      "  [[2 2 1]\n",
      "   [0 1 1]\n",
      "   [4 3 3]]\n",
      "\n",
      "  [[2 1 1]\n",
      "   [1 1 2]\n",
      "   [3 3 3]]\n",
      "\n",
      "  [[1 1 0]\n",
      "   [1 2 1]\n",
      "   [3 3 4]]\n",
      "\n",
      "  [[1 0 1]\n",
      "   [2 1 1]\n",
      "   [3 4 0]]\n",
      "\n",
      "  [[0 1 1]\n",
      "   [1 1 2]\n",
      "   [4 0 0]]\n",
      "\n",
      "  [[1 1 3]\n",
      "   [1 2 1]\n",
      "   [0 0 3]]]]\n"
     ]
    }
   ],
   "source": [
    "A = np.random.randint(0,5,(10,10))\n",
    "print(sliding_window_view(A, window_shape=(3, 3)))"
   ]
  },
  {
   "cell_type": "markdown",
   "metadata": {},
   "source": [
    "### 85. Create a 2D array subclass such that Z[i,j] == Z[j,i]"
   ]
  },
  {
   "cell_type": "code",
   "execution_count": 86,
   "metadata": {},
   "outputs": [
    {
     "name": "stdout",
     "output_type": "stream",
     "text": [
      "[[ 4 11  7  8  9]\n",
      " [11  4  4 10  8]\n",
      " [ 7  4  2 42 15]\n",
      " [ 8 10 42  7  8]\n",
      " [ 9  8 15  8  3]]\n"
     ]
    }
   ],
   "source": [
    "class Symetric(np.ndarray):\n",
    "    def __setitem__(self, index, value):\n",
    "        i,j = index\n",
    "        super(Symetric, self).__setitem__((i,j), value)\n",
    "        super(Symetric, self).__setitem__((j,i), value)\n",
    "\n",
    "def symetric(A):\n",
    "    return np.asarray(A + A.T - np.diag(A.diagonal())).view(Symetric)\n",
    "\n",
    "S = symetric(np.random.randint(0,10,(5,5)))\n",
    "S[2,3] = 42\n",
    "print(S)"
   ]
  },
  {
   "cell_type": "markdown",
   "metadata": {},
   "source": [
    "### 86. Consider a set of p matrices with shape (n,n) and a set of p vectors with shape (n,1). How to compute the sum of of the p matrix products at once? (result has shape (n,1))"
   ]
  },
  {
   "cell_type": "code",
   "execution_count": 87,
   "metadata": {},
   "outputs": [
    {
     "name": "stdout",
     "output_type": "stream",
     "text": [
      "[[4.32573847]\n",
      " [2.68952829]\n",
      " [1.87245775]\n",
      " [4.02488614]\n",
      " [4.1178743 ]]\n"
     ]
    }
   ],
   "source": [
    "p = 3\n",
    "n = 5\n",
    "matrices = np.random.random((p, n, n))\n",
    "vectors = np.random.random((p, n, 1))\n",
    "sum_matrix_products = np.sum(matrices @ vectors, axis=0)\n",
    "print(sum_matrix_products)"
   ]
  },
  {
   "cell_type": "markdown",
   "metadata": {},
   "source": [
    "### 87. Consider a 16x16 array, how to get the block-sum (block size is 4x4)?"
   ]
  },
  {
   "cell_type": "code",
   "execution_count": 88,
   "metadata": {},
   "outputs": [
    {
     "name": "stdout",
     "output_type": "stream",
     "text": [
      "[[16. 16. 16. 16.]\n",
      " [16. 16. 16. 16.]\n",
      " [16. 16. 16. 16.]\n",
      " [16. 16. 16. 16.]]\n"
     ]
    }
   ],
   "source": [
    "A = np.ones((16, 16))\n",
    "block_sum = np.sum(np.lib.stride_tricks.sliding_window_view(A, (4, 4)), axis=(-2, -1))\n",
    "print(block_sum[::4, ::4, ...])\n"
   ]
  },
  {
   "cell_type": "markdown",
   "metadata": {},
   "source": [
    "### 88. How to implement the Game of Life using numpy arrays?"
   ]
  },
  {
   "cell_type": "code",
   "execution_count": 89,
   "metadata": {},
   "outputs": [
    {
     "name": "stdout",
     "output_type": "stream",
     "text": [
      "[[0 0 0 0 0 0 0 0 1 0 0 0 0 0 0 0 0 0 0 0 0 0 1 1 0 0 0 0 0 0 1 0 0 0 1 1\n",
      "  0 0 0 0 0 0 0 0 0 0 0 0 0 0]\n",
      " [0 0 0 0 0 1 1 1 0 0 0 0 0 0 1 1 0 0 0 0 0 0 0 1 0 1 0 0 0 1 0 1 0 1 1 0\n",
      "  1 0 0 1 0 0 0 0 0 0 0 0 0 0]\n",
      " [0 0 0 0 0 1 1 1 0 0 0 1 1 0 0 0 1 0 0 0 0 0 0 0 0 1 0 0 0 0 0 0 0 0 1 0\n",
      "  1 0 0 1 1 1 0 0 0 0 0 0 0 0]\n",
      " [0 0 0 0 0 0 0 0 0 0 0 1 1 1 0 1 1 0 0 0 0 0 0 0 0 1 0 1 0 0 0 0 0 0 1 0\n",
      "  1 0 0 1 1 0 0 0 0 0 0 0 0 0]\n",
      " [1 1 0 0 0 1 1 0 0 0 1 0 0 0 0 1 1 0 0 0 0 0 0 0 0 1 0 0 1 0 0 0 0 0 1 0\n",
      "  0 0 1 1 0 0 0 0 0 0 0 0 0 1]\n",
      " [1 1 0 0 0 1 1 0 0 0 1 1 0 0 0 1 1 0 0 0 0 0 0 0 0 0 0 1 1 0 0 0 0 1 1 0\n",
      "  1 1 1 0 0 0 0 0 0 0 0 0 1 1]\n",
      " [1 1 0 0 0 0 0 0 0 0 1 0 0 1 0 1 1 0 0 0 0 0 0 0 0 0 0 0 0 0 0 0 0 0 1 1\n",
      "  1 1 0 0 0 0 0 0 0 0 1 1 1 0]\n",
      " [1 1 0 0 0 0 0 0 0 0 0 0 1 0 1 1 0 0 0 0 0 0 0 0 0 0 0 0 0 0 0 0 0 0 0 0\n",
      "  0 0 0 0 0 0 0 0 0 0 0 0 1 1]\n",
      " [1 1 1 1 0 0 0 0 0 0 0 0 1 0 1 0 0 0 0 0 0 0 0 0 0 0 0 0 0 0 0 0 0 0 0 0\n",
      "  0 0 0 0 0 0 0 0 0 0 0 0 1 1]\n",
      " [0 0 1 1 0 0 0 0 0 0 0 0 0 1 1 1 0 0 0 0 0 0 0 1 1 1 0 0 0 0 0 0 0 0 0 0\n",
      "  0 0 0 0 0 0 0 0 0 0 0 0 0 1]\n",
      " [0 0 0 0 0 0 0 0 0 0 0 0 0 0 1 0 0 0 0 0 0 0 0 1 0 1 0 0 0 0 0 0 0 0 0 0\n",
      "  0 0 0 0 0 0 0 0 0 0 0 0 0 0]\n",
      " [0 0 0 0 0 0 0 0 0 0 0 0 0 0 0 0 0 0 0 0 0 0 1 0 0 0 0 0 0 0 0 0 0 0 0 0\n",
      "  0 0 0 0 0 0 1 1 0 0 0 0 0 0]\n",
      " [0 0 0 0 1 0 0 0 1 0 0 0 0 0 0 0 0 1 1 0 0 0 1 0 0 0 1 1 0 0 0 0 0 0 0 0\n",
      "  0 0 0 0 0 0 1 1 0 0 0 0 0 0]\n",
      " [0 0 0 0 0 0 0 0 1 0 0 0 0 0 0 0 1 0 0 1 0 0 1 0 0 0 1 0 1 1 0 0 0 0 0 0\n",
      "  0 0 0 0 0 0 0 0 0 0 0 0 0 0]\n",
      " [0 0 0 0 0 0 0 0 0 0 0 0 0 0 0 0 0 0 0 0 0 0 1 0 0 0 0 0 1 0 1 0 0 1 1 0\n",
      "  0 0 0 1 0 0 0 0 0 0 0 0 0 0]\n",
      " [0 0 0 0 0 0 0 0 0 0 0 0 0 0 0 1 0 0 0 0 0 0 1 0 0 0 0 0 0 0 1 1 0 0 0 0\n",
      "  0 0 1 0 1 0 0 0 0 0 0 0 1 1]\n",
      " [1 1 0 0 0 0 0 0 0 0 0 0 0 0 1 1 0 0 0 1 0 0 1 0 1 0 0 1 0 0 0 0 1 0 0 0\n",
      "  0 0 1 0 1 0 0 0 0 0 0 1 0 0]\n",
      " [0 0 0 0 0 0 0 0 0 0 0 0 0 0 0 0 0 0 0 0 0 1 1 0 1 0 1 0 1 0 1 1 0 0 0 0\n",
      "  0 0 0 1 0 0 0 1 1 0 0 1 1 0]\n",
      " [1 1 0 1 1 0 0 0 0 0 0 0 0 1 0 0 0 0 0 0 1 0 1 0 0 0 1 1 0 0 1 0 0 0 0 0\n",
      "  0 0 0 0 0 0 0 0 0 0 0 1 1 1]\n",
      " [0 1 1 0 0 0 0 0 0 0 0 0 0 1 1 0 1 0 0 0 1 0 1 0 0 0 0 1 0 1 0 0 0 0 0 0\n",
      "  0 0 0 0 0 0 0 1 1 0 0 0 0 1]\n",
      " [0 0 0 0 0 0 0 0 0 0 0 0 0 0 0 0 1 0 1 0 0 1 0 0 0 0 0 1 1 0 0 0 0 0 0 0\n",
      "  0 0 0 0 0 1 1 1 0 0 0 1 1 0]\n",
      " [0 0 0 0 0 0 0 0 0 0 0 0 0 0 0 0 0 1 0 0 1 0 1 0 1 1 0 1 1 0 0 0 0 0 0 0\n",
      "  0 0 0 0 1 0 1 0 0 0 1 1 1 0]\n",
      " [0 1 0 1 0 0 0 0 0 1 1 1 0 0 0 0 0 0 0 0 1 0 0 0 0 0 0 1 1 0 0 0 0 0 0 0\n",
      "  0 0 0 0 1 0 0 1 0 0 1 1 1 0]\n",
      " [0 0 1 0 0 0 0 0 0 0 0 0 0 0 0 0 0 0 0 0 0 0 1 1 0 0 0 1 1 0 0 0 0 0 0 0\n",
      "  0 0 0 0 0 1 0 0 0 1 1 1 1 0]\n",
      " [1 1 0 1 0 0 0 0 0 0 0 0 0 0 0 0 0 0 0 0 0 0 1 0 0 0 0 0 0 0 0 0 0 0 0 0\n",
      "  0 0 0 0 0 0 0 0 0 1 1 0 0 1]\n",
      " [0 0 0 0 0 0 0 1 0 0 0 1 0 0 0 0 0 0 0 0 0 0 0 0 0 0 0 0 0 0 0 0 0 0 0 0\n",
      "  0 0 0 0 0 0 0 0 0 0 1 1 0 0]\n",
      " [1 0 0 0 0 0 1 1 0 1 0 1 1 0 0 0 0 0 0 0 0 0 1 0 0 0 0 0 0 0 0 0 0 0 0 0\n",
      "  0 0 0 0 0 0 0 0 0 0 1 0 1 0]\n",
      " [0 0 0 0 0 0 1 0 0 1 0 1 0 1 0 0 0 0 0 0 0 0 0 1 1 1 0 0 0 1 0 0 0 0 0 0\n",
      "  0 0 0 0 0 0 0 0 0 1 1 0 0 1]\n",
      " [0 0 0 0 0 0 0 1 1 1 0 0 0 1 1 0 0 0 0 0 0 0 0 1 0 0 0 0 0 0 0 0 0 0 0 0\n",
      "  0 0 0 0 0 0 0 0 1 1 1 0 1 0]\n",
      " [1 0 1 0 0 0 0 0 1 0 0 0 0 0 0 0 0 0 0 0 0 0 0 0 1 1 0 0 0 1 0 0 0 0 0 0\n",
      "  0 0 0 0 0 0 0 1 1 0 1 1 0 1]\n",
      " [1 0 0 0 0 0 0 0 0 0 0 0 1 1 1 0 0 0 0 0 0 0 1 0 0 0 0 0 0 0 0 0 0 0 0 0\n",
      "  0 0 0 0 0 0 0 0 1 0 1 0 0 0]\n",
      " [0 1 0 0 0 0 0 0 0 0 0 0 0 1 1 0 0 0 0 0 0 0 0 1 0 0 1 0 0 0 0 0 0 0 0 0\n",
      "  0 0 0 0 0 0 0 0 0 1 0 0 0 0]\n",
      " [0 0 0 0 0 0 0 0 0 0 0 0 1 1 0 0 1 1 1 0 1 1 0 0 0 0 0 1 0 0 0 0 0 0 0 0\n",
      "  0 0 0 0 0 0 0 0 0 0 0 0 0 0]\n",
      " [0 0 0 0 0 0 0 0 0 0 0 0 1 0 0 0 1 1 1 0 1 1 1 1 1 1 1 1 0 0 0 0 0 0 0 0\n",
      "  0 1 1 1 0 0 0 0 0 0 0 0 0 0]\n",
      " [0 0 0 0 0 0 0 1 1 1 0 0 0 1 0 0 1 1 0 0 1 0 1 0 1 1 0 0 0 0 0 0 0 0 0 0\n",
      "  0 0 0 0 0 0 0 0 0 0 0 0 0 0]\n",
      " [0 0 0 0 0 0 1 0 0 0 0 0 0 0 0 0 0 0 0 0 1 0 1 0 0 1 0 0 0 0 0 0 0 0 0 1\n",
      "  0 0 1 0 0 0 0 0 0 0 0 0 0 0]\n",
      " [0 0 0 0 0 0 1 0 0 0 0 1 1 0 0 0 0 1 0 0 0 1 0 0 0 0 0 0 0 0 0 0 0 0 1 0\n",
      "  0 0 0 0 0 0 0 0 0 0 0 0 0 0]\n",
      " [0 0 0 0 0 0 1 0 0 0 0 0 0 0 0 0 0 1 0 0 0 1 0 0 0 0 0 0 0 0 0 0 0 1 0 0\n",
      "  1 0 0 0 0 0 0 0 0 0 0 0 0 0]\n",
      " [0 0 0 0 0 0 0 0 1 1 0 0 0 0 0 0 0 0 0 0 1 0 0 0 0 0 0 1 0 0 0 0 0 1 1 1\n",
      "  0 0 0 0 0 0 0 0 0 0 0 0 0 0]\n",
      " [0 0 0 0 0 0 0 0 0 0 0 0 0 0 0 0 0 0 0 0 0 0 0 0 0 0 0 1 0 0 0 0 0 0 0 0\n",
      "  0 0 0 0 0 0 0 0 0 0 0 0 0 0]\n",
      " [0 1 0 0 0 0 0 0 0 1 0 0 0 0 0 0 0 0 0 0 0 0 0 0 0 0 0 1 0 0 0 0 0 0 0 0\n",
      "  0 0 0 0 0 0 0 0 0 1 0 0 0 0]\n",
      " [1 0 1 1 1 1 0 0 0 1 0 0 0 0 0 0 0 0 0 0 0 0 0 0 0 0 0 0 0 0 0 0 0 0 0 0\n",
      "  1 0 0 0 0 0 0 0 1 0 1 0 0 0]\n",
      " [1 0 0 1 0 1 1 1 0 0 1 0 0 0 0 0 0 0 0 0 0 0 0 0 0 0 0 0 1 1 0 0 0 0 0 1\n",
      "  0 1 0 0 0 0 0 0 1 0 1 0 0 1]\n",
      " [1 0 0 0 1 0 0 1 1 1 0 0 1 0 1 1 1 1 0 0 0 0 1 0 0 0 0 0 0 0 0 0 0 0 0 0\n",
      "  0 0 0 0 0 0 0 0 0 1 0 0 0 1]\n",
      " [1 0 1 1 1 0 0 0 0 1 1 0 0 0 0 0 0 1 0 0 0 0 1 0 1 1 0 0 0 1 0 0 0 0 0 1\n",
      "  1 1 0 0 0 0 0 0 0 0 0 0 0 1]\n",
      " [0 1 0 0 0 0 0 0 0 1 1 0 0 0 0 0 0 0 0 0 0 0 0 1 0 0 0 0 0 0 1 1 0 0 0 0\n",
      "  0 0 0 0 0 0 0 0 0 0 0 0 0 0]\n",
      " [0 0 0 0 0 0 0 0 0 0 1 0 0 0 0 0 0 1 0 0 0 0 0 0 0 1 0 0 0 1 1 1 0 0 0 0\n",
      "  0 0 0 0 0 0 0 0 0 0 0 0 1 0]\n",
      " [0 0 0 0 0 1 0 0 0 0 1 0 0 1 1 1 1 0 0 0 0 0 0 0 0 0 0 0 1 0 1 1 1 0 0 0\n",
      "  0 0 0 0 0 0 0 0 0 0 0 0 0 1]\n",
      " [0 0 0 1 1 0 0 1 0 0 0 0 0 0 0 0 0 0 0 0 0 0 0 0 0 0 0 0 0 1 0 0 0 1 0 0\n",
      "  0 0 0 0 0 0 0 0 0 0 0 0 0 0]\n",
      " [0 0 0 1 0 0 0 1 0 0 0 0 0 0 0 0 0 0 0 0 0 0 0 1 1 0 0 1 1 0 0 1 0 0 1 1\n",
      "  0 0 0 0 0 0 0 0 0 0 0 0 0 0]]\n"
     ]
    },
    {
     "name": "stderr",
     "output_type": "stream",
     "text": [
      "/tmp/ipykernel_1679/3694431743.py:3: DeprecationWarning: Calling np.sum(generator) is deprecated, and in the future will give a different result. Use np.sum(np.fromiter(generator)) or the python sum builtin instead.\n",
      "  neighbors = sum(np.roll(np.roll(board, i, axis=0), j, axis=1)\n"
     ]
    }
   ],
   "source": [
    "def game_of_life(board, steps):\n",
    "    for _ in range(steps):\n",
    "        neighbors = sum(np.roll(np.roll(board, i, axis=0), j, axis=1)\n",
    "                        for i in (-1, 0, 1) for j in (-1, 0, 1) if (i != 0 or j != 0))\n",
    "        board = (neighbors == 3) | (board & (neighbors == 2))\n",
    "    return board\n",
    "\n",
    "# Example usage:\n",
    "initial_board = np.random.choice([0, 1], (50, 50))\n",
    "final_board = game_of_life(initial_board, steps=10)\n",
    "print(final_board)"
   ]
  },
  {
   "cell_type": "markdown",
   "metadata": {},
   "source": [
    "### 89. How to get the n largest values of an array"
   ]
  },
  {
   "cell_type": "code",
   "execution_count": 90,
   "metadata": {},
   "outputs": [
    {
     "name": "stdout",
     "output_type": "stream",
     "text": [
      "[95 96 97 98 99]\n"
     ]
    }
   ],
   "source": [
    "A = np.arange(100)\n",
    "n_largest_indices = np.argsort(A)[-n:]\n",
    "n_largest_values = A[n_largest_indices]\n",
    "print(n_largest_values)"
   ]
  },
  {
   "cell_type": "markdown",
   "metadata": {},
   "source": [
    "### 90. Given an arbitrary number of vectors, build the cartesian product\n"
   ]
  },
  {
   "cell_type": "code",
   "execution_count": 91,
   "metadata": {},
   "outputs": [
    {
     "name": "stdout",
     "output_type": "stream",
     "text": [
      "[[1 4 6]\n",
      " [1 4 7]\n",
      " [1 5 6]\n",
      " [1 5 7]\n",
      " [2 4 6]\n",
      " [2 4 7]\n",
      " [2 5 6]\n",
      " [2 5 7]\n",
      " [3 4 6]\n",
      " [3 4 7]\n",
      " [3 5 6]\n",
      " [3 5 7]]\n"
     ]
    }
   ],
   "source": [
    "import itertools\n",
    "\n",
    "def cartesian(arrays):\n",
    "    return np.array(list(itertools.product(*arrays)))\n",
    "\n",
    "result = cartesian(([1, 2, 3], [4, 5], [6, 7]))\n",
    "print(result)"
   ]
  },
  {
   "cell_type": "markdown",
   "metadata": {},
   "source": [
    "### 91. How to create a record array from a regular array?"
   ]
  },
  {
   "cell_type": "code",
   "execution_count": 92,
   "metadata": {},
   "outputs": [
    {
     "name": "stdout",
     "output_type": "stream",
     "text": [
      "[(1, 'John', 28) (2, 'Alice', 22) (3, 'Bob', 31)]\n"
     ]
    }
   ],
   "source": [
    "A = np.array([(1, 'John', 28), (2, 'Alice', 22), (3, 'Bob', 31)],\n",
    "              dtype=[('id', int), ('name', 'U10'), ('age', int)])\n",
    "\n",
    "Record_A = np.array(A, dtype=[('id', int), ('name', 'U10'), ('age', int)])\n",
    "print(Record_A)\n"
   ]
  },
  {
   "cell_type": "markdown",
   "metadata": {},
   "source": [
    "### 92. Consider a large vector Z, compute Z to the power of 3 using 3 different methods"
   ]
  },
  {
   "cell_type": "code",
   "execution_count": 93,
   "metadata": {},
   "outputs": [
    {
     "ename": "KeyboardInterrupt",
     "evalue": "",
     "output_type": "error",
     "traceback": [
      "\u001b[0;31m---------------------------------------------------------------------------\u001b[0m",
      "\u001b[0;31mKeyboardInterrupt\u001b[0m                         Traceback (most recent call last)",
      "Cell \u001b[0;32mIn[93], line 4\u001b[0m\n\u001b[1;32m      2\u001b[0m Z \u001b[38;5;241m=\u001b[39m np\u001b[38;5;241m.\u001b[39mrandom\u001b[38;5;241m.\u001b[39mrandom(\u001b[38;5;241m1000000\u001b[39m)\n\u001b[1;32m      3\u001b[0m result_1 \u001b[38;5;241m=\u001b[39m Z \u001b[38;5;241m*\u001b[39m\u001b[38;5;241m*\u001b[39m \u001b[38;5;241m3\u001b[39m\n\u001b[0;32m----> 4\u001b[0m \u001b[38;5;28;43mprint\u001b[39;49m\u001b[43m(\u001b[49m\u001b[43mresult_1\u001b[49m\u001b[43m)\u001b[49m\n\u001b[1;32m      6\u001b[0m \u001b[38;5;66;03m# Method 2: Using np.power function\u001b[39;00m\n\u001b[1;32m      7\u001b[0m result_2 \u001b[38;5;241m=\u001b[39m np\u001b[38;5;241m.\u001b[39mpower(Z, \u001b[38;5;241m3\u001b[39m)\n",
      "File \u001b[0;32m~/miniconda3/envs/datascience/lib/python3.9/site-packages/numpy/core/arrayprint.py:1612\u001b[0m, in \u001b[0;36m_array_str_implementation\u001b[0;34m(a, max_line_width, precision, suppress_small, array2string)\u001b[0m\n\u001b[1;32m   1606\u001b[0m \u001b[38;5;28;01mif\u001b[39;00m a\u001b[38;5;241m.\u001b[39mshape \u001b[38;5;241m==\u001b[39m ():\n\u001b[1;32m   1607\u001b[0m     \u001b[38;5;66;03m# obtain a scalar and call str on it, avoiding problems for subclasses\u001b[39;00m\n\u001b[1;32m   1608\u001b[0m     \u001b[38;5;66;03m# for which indexing with () returns a 0d instead of a scalar by using\u001b[39;00m\n\u001b[1;32m   1609\u001b[0m     \u001b[38;5;66;03m# ndarray's getindex. Also guard against recursive 0d object arrays.\u001b[39;00m\n\u001b[1;32m   1610\u001b[0m     \u001b[38;5;28;01mreturn\u001b[39;00m _guarded_repr_or_str(np\u001b[38;5;241m.\u001b[39mndarray\u001b[38;5;241m.\u001b[39m\u001b[38;5;21m__getitem__\u001b[39m(a, ()))\n\u001b[0;32m-> 1612\u001b[0m \u001b[38;5;28;01mreturn\u001b[39;00m \u001b[43marray2string\u001b[49m\u001b[43m(\u001b[49m\u001b[43ma\u001b[49m\u001b[43m,\u001b[49m\u001b[43m \u001b[49m\u001b[43mmax_line_width\u001b[49m\u001b[43m,\u001b[49m\u001b[43m \u001b[49m\u001b[43mprecision\u001b[49m\u001b[43m,\u001b[49m\u001b[43m \u001b[49m\u001b[43msuppress_small\u001b[49m\u001b[43m,\u001b[49m\u001b[43m \u001b[49m\u001b[38;5;124;43m'\u001b[39;49m\u001b[38;5;124;43m \u001b[39;49m\u001b[38;5;124;43m'\u001b[39;49m\u001b[43m,\u001b[49m\u001b[43m \u001b[49m\u001b[38;5;124;43m\"\u001b[39;49m\u001b[38;5;124;43m\"\u001b[39;49m\u001b[43m)\u001b[49m\n",
      "File \u001b[0;32m~/miniconda3/envs/datascience/lib/python3.9/site-packages/numpy/core/arrayprint.py:736\u001b[0m, in \u001b[0;36marray2string\u001b[0;34m(a, max_line_width, precision, suppress_small, separator, prefix, style, formatter, threshold, edgeitems, sign, floatmode, suffix, legacy)\u001b[0m\n\u001b[1;32m    733\u001b[0m \u001b[38;5;28;01mif\u001b[39;00m a\u001b[38;5;241m.\u001b[39msize \u001b[38;5;241m==\u001b[39m \u001b[38;5;241m0\u001b[39m:\n\u001b[1;32m    734\u001b[0m     \u001b[38;5;28;01mreturn\u001b[39;00m \u001b[38;5;124m\"\u001b[39m\u001b[38;5;124m[]\u001b[39m\u001b[38;5;124m\"\u001b[39m\n\u001b[0;32m--> 736\u001b[0m \u001b[38;5;28;01mreturn\u001b[39;00m \u001b[43m_array2string\u001b[49m\u001b[43m(\u001b[49m\u001b[43ma\u001b[49m\u001b[43m,\u001b[49m\u001b[43m \u001b[49m\u001b[43moptions\u001b[49m\u001b[43m,\u001b[49m\u001b[43m \u001b[49m\u001b[43mseparator\u001b[49m\u001b[43m,\u001b[49m\u001b[43m \u001b[49m\u001b[43mprefix\u001b[49m\u001b[43m)\u001b[49m\n",
      "File \u001b[0;32m~/miniconda3/envs/datascience/lib/python3.9/site-packages/numpy/core/arrayprint.py:513\u001b[0m, in \u001b[0;36m_recursive_guard.<locals>.decorating_function.<locals>.wrapper\u001b[0;34m(self, *args, **kwargs)\u001b[0m\n\u001b[1;32m    511\u001b[0m repr_running\u001b[38;5;241m.\u001b[39madd(key)\n\u001b[1;32m    512\u001b[0m \u001b[38;5;28;01mtry\u001b[39;00m:\n\u001b[0;32m--> 513\u001b[0m     \u001b[38;5;28;01mreturn\u001b[39;00m \u001b[43mf\u001b[49m\u001b[43m(\u001b[49m\u001b[38;5;28;43mself\u001b[39;49m\u001b[43m,\u001b[49m\u001b[43m \u001b[49m\u001b[38;5;241;43m*\u001b[39;49m\u001b[43margs\u001b[49m\u001b[43m,\u001b[49m\u001b[43m \u001b[49m\u001b[38;5;241;43m*\u001b[39;49m\u001b[38;5;241;43m*\u001b[39;49m\u001b[43mkwargs\u001b[49m\u001b[43m)\u001b[49m\n\u001b[1;32m    514\u001b[0m \u001b[38;5;28;01mfinally\u001b[39;00m:\n\u001b[1;32m    515\u001b[0m     repr_running\u001b[38;5;241m.\u001b[39mdiscard(key)\n",
      "File \u001b[0;32m~/miniconda3/envs/datascience/lib/python3.9/site-packages/numpy/core/arrayprint.py:546\u001b[0m, in \u001b[0;36m_array2string\u001b[0;34m(a, options, separator, prefix)\u001b[0m\n\u001b[1;32m    543\u001b[0m \u001b[38;5;66;03m# skip over array(\u001b[39;00m\n\u001b[1;32m    544\u001b[0m next_line_prefix \u001b[38;5;241m+\u001b[39m\u001b[38;5;241m=\u001b[39m \u001b[38;5;124m\"\u001b[39m\u001b[38;5;124m \u001b[39m\u001b[38;5;124m\"\u001b[39m\u001b[38;5;241m*\u001b[39m\u001b[38;5;28mlen\u001b[39m(prefix)\n\u001b[0;32m--> 546\u001b[0m lst \u001b[38;5;241m=\u001b[39m \u001b[43m_formatArray\u001b[49m\u001b[43m(\u001b[49m\u001b[43ma\u001b[49m\u001b[43m,\u001b[49m\u001b[43m \u001b[49m\u001b[43mformat_function\u001b[49m\u001b[43m,\u001b[49m\u001b[43m \u001b[49m\u001b[43moptions\u001b[49m\u001b[43m[\u001b[49m\u001b[38;5;124;43m'\u001b[39;49m\u001b[38;5;124;43mlinewidth\u001b[39;49m\u001b[38;5;124;43m'\u001b[39;49m\u001b[43m]\u001b[49m\u001b[43m,\u001b[49m\n\u001b[1;32m    547\u001b[0m \u001b[43m                   \u001b[49m\u001b[43mnext_line_prefix\u001b[49m\u001b[43m,\u001b[49m\u001b[43m \u001b[49m\u001b[43mseparator\u001b[49m\u001b[43m,\u001b[49m\u001b[43m \u001b[49m\u001b[43moptions\u001b[49m\u001b[43m[\u001b[49m\u001b[38;5;124;43m'\u001b[39;49m\u001b[38;5;124;43medgeitems\u001b[39;49m\u001b[38;5;124;43m'\u001b[39;49m\u001b[43m]\u001b[49m\u001b[43m,\u001b[49m\n\u001b[1;32m    548\u001b[0m \u001b[43m                   \u001b[49m\u001b[43msummary_insert\u001b[49m\u001b[43m,\u001b[49m\u001b[43m \u001b[49m\u001b[43moptions\u001b[49m\u001b[43m[\u001b[49m\u001b[38;5;124;43m'\u001b[39;49m\u001b[38;5;124;43mlegacy\u001b[39;49m\u001b[38;5;124;43m'\u001b[39;49m\u001b[43m]\u001b[49m\u001b[43m)\u001b[49m\n\u001b[1;32m    549\u001b[0m \u001b[38;5;28;01mreturn\u001b[39;00m lst\n",
      "File \u001b[0;32m~/miniconda3/envs/datascience/lib/python3.9/site-packages/numpy/core/arrayprint.py:889\u001b[0m, in \u001b[0;36m_formatArray\u001b[0;34m(a, format_function, line_width, next_line_prefix, separator, edge_items, summary_insert, legacy)\u001b[0m\n\u001b[1;32m    885\u001b[0m     \u001b[38;5;28;01mreturn\u001b[39;00m s\n\u001b[1;32m    887\u001b[0m \u001b[38;5;28;01mtry\u001b[39;00m:\n\u001b[1;32m    888\u001b[0m     \u001b[38;5;66;03m# invoke the recursive part with an initial index and prefix\u001b[39;00m\n\u001b[0;32m--> 889\u001b[0m     \u001b[38;5;28;01mreturn\u001b[39;00m \u001b[43mrecurser\u001b[49m\u001b[43m(\u001b[49m\u001b[43mindex\u001b[49m\u001b[38;5;241;43m=\u001b[39;49m\u001b[43m(\u001b[49m\u001b[43m)\u001b[49m\u001b[43m,\u001b[49m\n\u001b[1;32m    890\u001b[0m \u001b[43m                    \u001b[49m\u001b[43mhanging_indent\u001b[49m\u001b[38;5;241;43m=\u001b[39;49m\u001b[43mnext_line_prefix\u001b[49m\u001b[43m,\u001b[49m\n\u001b[1;32m    891\u001b[0m \u001b[43m                    \u001b[49m\u001b[43mcurr_width\u001b[49m\u001b[38;5;241;43m=\u001b[39;49m\u001b[43mline_width\u001b[49m\u001b[43m)\u001b[49m\n\u001b[1;32m    892\u001b[0m \u001b[38;5;28;01mfinally\u001b[39;00m:\n\u001b[1;32m    893\u001b[0m     \u001b[38;5;66;03m# recursive closures have a cyclic reference to themselves, which\u001b[39;00m\n\u001b[1;32m    894\u001b[0m     \u001b[38;5;66;03m# requires gc to collect (gh-10620). To avoid this problem, for\u001b[39;00m\n\u001b[1;32m    895\u001b[0m     \u001b[38;5;66;03m# performance and PyPy friendliness, we break the cycle:\u001b[39;00m\n\u001b[1;32m    896\u001b[0m     recurser \u001b[38;5;241m=\u001b[39m \u001b[38;5;28;01mNone\u001b[39;00m\n",
      "File \u001b[0;32m~/miniconda3/envs/datascience/lib/python3.9/site-packages/numpy/core/arrayprint.py:846\u001b[0m, in \u001b[0;36m_formatArray.<locals>.recurser\u001b[0;34m(index, hanging_indent, curr_width)\u001b[0m\n\u001b[1;32m    844\u001b[0m \u001b[38;5;28;01mfor\u001b[39;00m i \u001b[38;5;129;01min\u001b[39;00m \u001b[38;5;28mrange\u001b[39m(trailing_items, \u001b[38;5;241m1\u001b[39m, \u001b[38;5;241m-\u001b[39m\u001b[38;5;241m1\u001b[39m):\n\u001b[1;32m    845\u001b[0m     word \u001b[38;5;241m=\u001b[39m recurser(index \u001b[38;5;241m+\u001b[39m (\u001b[38;5;241m-\u001b[39mi,), next_hanging_indent, next_width)\n\u001b[0;32m--> 846\u001b[0m     s, line \u001b[38;5;241m=\u001b[39m \u001b[43m_extendLine_pretty\u001b[49m\u001b[43m(\u001b[49m\n\u001b[1;32m    847\u001b[0m \u001b[43m        \u001b[49m\u001b[43ms\u001b[49m\u001b[43m,\u001b[49m\u001b[43m \u001b[49m\u001b[43mline\u001b[49m\u001b[43m,\u001b[49m\u001b[43m \u001b[49m\u001b[43mword\u001b[49m\u001b[43m,\u001b[49m\u001b[43m \u001b[49m\u001b[43melem_width\u001b[49m\u001b[43m,\u001b[49m\u001b[43m \u001b[49m\u001b[43mhanging_indent\u001b[49m\u001b[43m,\u001b[49m\u001b[43m \u001b[49m\u001b[43mlegacy\u001b[49m\u001b[43m)\u001b[49m\n\u001b[1;32m    848\u001b[0m     line \u001b[38;5;241m+\u001b[39m\u001b[38;5;241m=\u001b[39m separator\n\u001b[1;32m    850\u001b[0m \u001b[38;5;28;01mif\u001b[39;00m legacy \u001b[38;5;241m<\u001b[39m\u001b[38;5;241m=\u001b[39m \u001b[38;5;241m113\u001b[39m:\n\u001b[1;32m    851\u001b[0m     \u001b[38;5;66;03m# width of the separator is not considered on 1.13\u001b[39;00m\n",
      "File \u001b[0;32m~/miniconda3/envs/datascience/lib/python3.9/site-packages/numpy/core/arrayprint.py:759\u001b[0m, in \u001b[0;36m_extendLine_pretty\u001b[0;34m(s, line, word, line_width, next_line_prefix, legacy)\u001b[0m\n\u001b[1;32m    757\u001b[0m words \u001b[38;5;241m=\u001b[39m word\u001b[38;5;241m.\u001b[39msplitlines()\n\u001b[1;32m    758\u001b[0m \u001b[38;5;28;01mif\u001b[39;00m \u001b[38;5;28mlen\u001b[39m(words) \u001b[38;5;241m==\u001b[39m \u001b[38;5;241m1\u001b[39m \u001b[38;5;129;01mor\u001b[39;00m legacy \u001b[38;5;241m<\u001b[39m\u001b[38;5;241m=\u001b[39m \u001b[38;5;241m113\u001b[39m:\n\u001b[0;32m--> 759\u001b[0m     \u001b[38;5;28;01mreturn\u001b[39;00m \u001b[43m_extendLine\u001b[49m\u001b[43m(\u001b[49m\u001b[43ms\u001b[49m\u001b[43m,\u001b[49m\u001b[43m \u001b[49m\u001b[43mline\u001b[49m\u001b[43m,\u001b[49m\u001b[43m \u001b[49m\u001b[43mword\u001b[49m\u001b[43m,\u001b[49m\u001b[43m \u001b[49m\u001b[43mline_width\u001b[49m\u001b[43m,\u001b[49m\u001b[43m \u001b[49m\u001b[43mnext_line_prefix\u001b[49m\u001b[43m,\u001b[49m\u001b[43m \u001b[49m\u001b[43mlegacy\u001b[49m\u001b[43m)\u001b[49m\n\u001b[1;32m    761\u001b[0m max_word_length \u001b[38;5;241m=\u001b[39m \u001b[38;5;28mmax\u001b[39m(\u001b[38;5;28mlen\u001b[39m(word) \u001b[38;5;28;01mfor\u001b[39;00m word \u001b[38;5;129;01min\u001b[39;00m words)\n\u001b[1;32m    762\u001b[0m \u001b[38;5;28;01mif\u001b[39;00m (\u001b[38;5;28mlen\u001b[39m(line) \u001b[38;5;241m+\u001b[39m max_word_length \u001b[38;5;241m>\u001b[39m line_width \u001b[38;5;129;01mand\u001b[39;00m\n\u001b[1;32m    763\u001b[0m         \u001b[38;5;28mlen\u001b[39m(line) \u001b[38;5;241m>\u001b[39m \u001b[38;5;28mlen\u001b[39m(next_line_prefix)):\n",
      "File \u001b[0;32m~/miniconda3/envs/datascience/lib/python3.9/site-packages/numpy/core/arrayprint.py:747\u001b[0m, in \u001b[0;36m_extendLine\u001b[0;34m(s, line, word, line_width, next_line_prefix, legacy)\u001b[0m\n\u001b[1;32m    744\u001b[0m         needs_wrap \u001b[38;5;241m=\u001b[39m \u001b[38;5;28;01mFalse\u001b[39;00m\n\u001b[1;32m    746\u001b[0m \u001b[38;5;28;01mif\u001b[39;00m needs_wrap:\n\u001b[0;32m--> 747\u001b[0m     s \u001b[38;5;241m+\u001b[39m\u001b[38;5;241m=\u001b[39m line\u001b[38;5;241m.\u001b[39mrstrip() \u001b[38;5;241m+\u001b[39m \u001b[38;5;124m\"\u001b[39m\u001b[38;5;130;01m\\n\u001b[39;00m\u001b[38;5;124m\"\u001b[39m\n\u001b[1;32m    748\u001b[0m     line \u001b[38;5;241m=\u001b[39m next_line_prefix\n\u001b[1;32m    749\u001b[0m line \u001b[38;5;241m+\u001b[39m\u001b[38;5;241m=\u001b[39m word\n",
      "\u001b[0;31mKeyboardInterrupt\u001b[0m: "
     ]
    }
   ],
   "source": [
    "# Method 1: Using the ** operator\n",
    "Z = np.random.random(1000000)\n",
    "result_1 = Z ** 3\n",
    "print(result_1)\n",
    "\n",
    "# Method 2: Using np.power function\n",
    "result_2 = np.power(Z, 3)\n",
    "print(result_2)\n",
    "\n",
    "# Method 3: Using np.einsum for element-wise cube\n",
    "result_3 = np.einsum('i,i,i->i', Z, Z, Z)\n",
    "print(result_3)\n"
   ]
  },
  {
   "cell_type": "markdown",
   "metadata": {},
   "source": [
    "### 93. Consider two arrays A and B of shape (8,3) and (2,2). How to find rows of A that contain elements of each row of B regardless of the order of the elements in B?"
   ]
  },
  {
   "cell_type": "code",
   "execution_count": 94,
   "metadata": {},
   "outputs": [
    {
     "name": "stdout",
     "output_type": "stream",
     "text": [
      "[0 3]\n"
     ]
    }
   ],
   "source": [
    "A = np.random.randint(0,10,(8,3))\n",
    "B = np.random.randint(0,10,(2,2))\n",
    "\n",
    "C = (A[..., np.newaxis, np.newaxis] == B)\n",
    "rows = np.where(C.any((3,1)).all(1))[0]\n",
    "print(rows)"
   ]
  },
  {
   "cell_type": "markdown",
   "metadata": {},
   "source": [
    "### 94. Considering a 10x3 matrix, extract rows with unequal values (e.g. [2,2,3])"
   ]
  },
  {
   "cell_type": "code",
   "execution_count": 95,
   "metadata": {},
   "outputs": [
    {
     "name": "stdout",
     "output_type": "stream",
     "text": [
      "[[3 1 6]\n",
      " [6 4 2]\n",
      " [6 5 8]\n",
      " [8 7 1]\n",
      " [0 8 9]\n",
      " [6 1 2]\n",
      " [5 9 9]\n",
      " [3 5 7]\n",
      " [8 5 8]\n",
      " [4 5 2]]\n"
     ]
    }
   ],
   "source": [
    "A = np.random.randint(0, 10, (10, 3))\n",
    "\n",
    "S = A[np.any(A[:, 1:] != A[:, :-1], axis=1)]\n",
    "\n",
    "print(S)"
   ]
  },
  {
   "cell_type": "markdown",
   "metadata": {},
   "source": [
    "### 95. Convert a vector of ints into a matrix binary representation"
   ]
  },
  {
   "cell_type": "code",
   "execution_count": 96,
   "metadata": {},
   "outputs": [
    {
     "name": "stdout",
     "output_type": "stream",
     "text": [
      "[[0 0 0 0 0 0 0 0]\n",
      " [0 0 0 0 0 0 0 1]\n",
      " [0 0 0 0 0 0 1 0]\n",
      " [0 0 0 0 0 0 1 1]\n",
      " [0 0 0 0 1 1 1 1]\n",
      " [0 0 0 1 0 0 0 0]\n",
      " [0 0 1 0 0 0 0 0]\n",
      " [0 1 0 0 0 0 0 0]\n",
      " [1 0 0 0 0 0 0 0]]\n"
     ]
    }
   ],
   "source": [
    "I = np.array([0, 1, 2, 3, 15, 16, 32, 64, 128])\n",
    "B = ((I.reshape(-1,1) & (2**np.arange(8))) != 0).astype(int)\n",
    "print(B[:,::-1])"
   ]
  },
  {
   "cell_type": "markdown",
   "metadata": {},
   "source": [
    "### 96. Given a two dimensional array, how to extract unique rows?"
   ]
  },
  {
   "cell_type": "code",
   "execution_count": 97,
   "metadata": {},
   "outputs": [
    {
     "name": "stdout",
     "output_type": "stream",
     "text": [
      "[[1 2 3]\n",
      " [4 5 6]\n",
      " [7 8 9]]\n"
     ]
    }
   ],
   "source": [
    "A = np.array([[1, 2, 3],\n",
    "              [4, 5, 6],\n",
    "              [1, 2, 3],\n",
    "              [7, 8, 9],\n",
    "              [4, 5, 6]])\n",
    "\n",
    "# Extract unique rows\n",
    "unique_rows = np.unique(A, axis=0)\n",
    "\n",
    "print(unique_rows)"
   ]
  },
  {
   "cell_type": "markdown",
   "metadata": {},
   "source": [
    "### 97. Considering 2 vectors A & B, write the einsum equivalent of inner, outer, sum, and mul function"
   ]
  },
  {
   "cell_type": "code",
   "execution_count": 98,
   "metadata": {},
   "outputs": [
    {
     "name": "stdout",
     "output_type": "stream",
     "text": [
      "Result of Inner Product: \n",
      "43.7818422006078\n",
      "Result of Outer Product: \n",
      "[[2.19399932 3.33030905 3.31721893 3.97386751 3.03152183 2.23946853\n",
      "  2.6521078  3.52993908 2.71800762 4.04949271]\n",
      " [1.54238357 2.34121038 2.33200801 2.79363258 2.13116268 1.57434847\n",
      "  1.86443426 2.48155047 1.9107619  2.84679716]\n",
      " [3.89229111 5.90817517 5.88495247 7.04988787 5.37810808 3.97295631\n",
      "  4.70500402 6.26233124 4.82191439 7.18405167]\n",
      " [3.42589171 5.20021955 5.17977955 6.20512488 4.73366851 3.49689108\n",
      "  4.14122012 5.51193836 4.24412154 6.32321231]\n",
      " [1.62883673 2.4724391  2.46272092 2.95022031 2.25061788 1.66259331\n",
      "  1.9689389  2.62064549 2.01786327 3.00636486]\n",
      " [2.08900257 3.17093268 3.158469   3.7836928  2.88644432 2.13229578\n",
      "  2.52518766 3.36100915 2.58793375 3.85569885]\n",
      " [3.44975823 5.23644696 5.21586456 6.24835297 4.76664569 3.52125223\n",
      "  4.17006999 5.55033736 4.27368827 6.36726306]\n",
      " [3.60141514 5.46664957 5.44516234 6.5230406  4.97619508 3.67605213\n",
      "  4.35339296 5.7943391  4.46156647 6.64717816]\n",
      " [4.15624464 6.30883474 6.28403721 7.52797204 5.74282145 4.2423801\n",
      "  5.02407122 6.6870077  5.1489098  7.67123409]\n",
      " [4.15033284 6.29986112 6.27509886 7.51726433 5.73465292 4.23634578\n",
      "  5.01692503 6.67749617 5.14158604 7.6603226 ]]\n",
      "Result of Sum: \n",
      "27.884461481681658\n",
      "Result of Multiplication: \n",
      "[2.19399932 2.34121038 5.88495247 6.20512488 2.25061788 2.13229578\n",
      " 4.17006999 5.7943391  5.1489098  7.6603226 ]\n"
     ]
    }
   ],
   "source": [
    "A = np.random.uniform(1,5,10)\n",
    "B = np.random.uniform(1,2,10)\n",
    "\n",
    "# Inner Product\n",
    "I = np.einsum('i,i->', A, B)\n",
    "print( f\"Result of Inner Product: \\n{I}\")\n",
    "\n",
    "# Outer Product\n",
    "O = np.einsum('i,j->ij', A, B)\n",
    "print( f\"Result of Outer Product: \\n{O}\")\n",
    "\n",
    "# Sum\n",
    "S= np.einsum('i->', A) \n",
    "print( f\"Result of Sum: \\n{S}\")\n",
    "\n",
    "# Element-wise Multiplication\n",
    "M = np.einsum('i,i->i', A, B)\n",
    "print( f\"Result of Multiplication: \\n{ M}\")"
   ]
  },
  {
   "cell_type": "markdown",
   "metadata": {},
   "source": [
    "### 98. Considering a path described by two vectors (X,Y), how to sample it using equidistant samples"
   ]
  },
  {
   "cell_type": "code",
   "execution_count": 99,
   "metadata": {},
   "outputs": [
    {
     "data": {
      "image/png": "[encoded data removed]",
      "text/plain": [
       "<Figure size 640x480 with 1 Axes>"
      ]
     },
     "metadata": {},
     "output_type": "display_data"
    }
   ],
   "source": [
    "import matplotlib.pyplot as plt\n",
    "\n",
    "def equidistant_samples(X, Y, num_samples):\n",
    "    t = np.linspace(0, 1, len(X))  # Parameterization from 0 to 1\n",
    "    t_equidistant = np.linspace(0, 1, num_samples)  # Equidistant parameterization\n",
    "\n",
    "    sampled_X = np.interp(t_equidistant, t, X)\n",
    "    sampled_Y = np.interp(t_equidistant, t, Y)\n",
    "\n",
    "    return sampled_X, sampled_Y\n",
    "\n",
    "\n",
    "X = np.array([0, 1, 3, 6, 9, 12])\n",
    "Y = np.array([0, 2, 5, 7, 8, 6])\n",
    "\n",
    "num_samples = 100\n",
    "sampled_X, sampled_Y = equidistant_samples(X, Y, num_samples)\n",
    "\n",
    "# Plot the original path and the sampled points\n",
    "plt.plot(X, Y, 'o-', label='Original Path')\n",
    "plt.plot(sampled_X, sampled_Y, 'x', label=f'Equidistant Samples ({num_samples} points)')\n",
    "plt.legend()\n",
    "plt.xlabel('X')\n",
    "plt.ylabel('Y')\n",
    "plt.title('Sampling a Path with Equidistant Points')\n",
    "plt.show()"
   ]
  },
  {
   "cell_type": "markdown",
   "metadata": {},
   "source": [
    "### 99. Given an integer n and a 2D array X, select from X the rows which can be interpreted as draws from a multinomial distribution with n degrees, i.e., the rows which only contain integers and which sum to n."
   ]
  },
  {
   "cell_type": "code",
   "execution_count": 100,
   "metadata": {},
   "outputs": [
    {
     "name": "stdout",
     "output_type": "stream",
     "text": [
      "[[2. 0. 1. 1.]]\n"
     ]
    }
   ],
   "source": [
    "X = np.asarray([[1.0, 0.0, 3.0, 8.0],\n",
    "                [2.0, 0.0, 1.0, 1.0],\n",
    "                [1.5, 2.5, 1.0, 0.0]])\n",
    "n = 4\n",
    "M = np.logical_and.reduce(np.mod(X, 1) == 0, axis=-1)\n",
    "M &= (X.sum(axis=-1) == n)\n",
    "print(X[M])"
   ]
  },
  {
   "cell_type": "markdown",
   "metadata": {},
   "source": [
    "### 100. Compute bootstrapped 95% confidence intervals for the mean of a 1D array X (i.e., resample the elements of an array with replacement N times, compute the mean of each sample, and then compute percentiles over the means)."
   ]
  },
  {
   "cell_type": "code",
   "execution_count": 101,
   "metadata": {},
   "outputs": [
    {
     "name": "stdout",
     "output_type": "stream",
     "text": [
      "[-0.22707169  0.11849636]\n"
     ]
    }
   ],
   "source": [
    "X = np.random.randn(100) \n",
    "N = 1000 \n",
    "idx = np.random.randint(0, X.size, (N, X.size))\n",
    "means = X[idx].mean(axis=1)\n",
    "confint = np.percentile(means, [2.5, 97.5])\n",
    "print(confint)"
   ]
  }
 ],
 "metadata": {
  "kernelspec": {
   "display_name": "datascience",
   "language": "python",
   "name": "python3"
  },
  "language_info": {
   "codemirror_mode": {
    "name": "ipython",
    "version": 3
   },
   "file_extension": ".py",
   "mimetype": "text/x-python",
   "name": "python",
   "nbconvert_exporter": "python",
   "pygments_lexer": "ipython3",
   "version": "3.9.18"
  }
 },
 "nbformat": 4,
 "nbformat_minor": 2
}
